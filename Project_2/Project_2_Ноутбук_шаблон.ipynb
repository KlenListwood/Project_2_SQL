{
  "cells": [
    {
      "attachments": {},
      "cell_type": "markdown",
      "id": "42289889-bd57-434e-9637-d3e354756316",
      "metadata": {
        "id": "42289889-bd57-434e-9637-d3e354756316"
      },
      "source": [
        "<center> <img src = https://raw.githubusercontent.com/AndreyRysistov/DatasetsForPandas/main/hh%20label.jpg alt=\"drawing\" style=\"width:400px;\">"
      ]
    },
    {
      "attachments": {},
      "cell_type": "markdown",
      "id": "829cb75b-f14e-4ba8-9195-7ba929a7d656",
      "metadata": {
        "id": "829cb75b-f14e-4ba8-9195-7ba929a7d656",
        "tags": []
      },
      "source": [
        "# <center> Проект: Анализ вакансий из HeadHunter\n",
        "   "
      ]
    },
    {
      "cell_type": "code",
      "execution_count": 86,
      "id": "dccfde33-2452-43fb-a8a5-5c6ebc02a71d",
      "metadata": {
        "id": "dccfde33-2452-43fb-a8a5-5c6ebc02a71d"
      },
      "outputs": [],
      "source": [
        "import pandas as pd\n",
        "import psycopg2\n",
        "import plotly.express as px"
      ]
    },
    {
      "cell_type": "code",
      "execution_count": 87,
      "id": "oVKH4ehvf8Ay",
      "metadata": {
        "id": "oVKH4ehvf8Ay"
      },
      "outputs": [],
      "source": [
        "# вставьте сюда параметры подключения из юнита 1. Работа с базой данных из Python \n",
        "DBNAME = 'project_sql'\n",
        "USER = 'skillfactory'\n",
        "PASSWORD = 'cCkxxLVrDE8EbvjueeMedPKt'\n",
        "HOST = '84.201.134.129'\n",
        "PORT = 5432"
      ]
    },
    {
      "cell_type": "code",
      "execution_count": 88,
      "id": "G4X_q8KBf7SF",
      "metadata": {
        "id": "G4X_q8KBf7SF"
      },
      "outputs": [],
      "source": [
        "connection = psycopg2.connect(\n",
        "    dbname=DBNAME,\n",
        "    user=USER,\n",
        "    host=HOST,\n",
        "    password=PASSWORD,\n",
        "    port=PORT\n",
        ")"
      ]
    },
    {
      "attachments": {},
      "cell_type": "markdown",
      "id": "0dc6476b-7a00-44f1-ac93-6e3baed33a29",
      "metadata": {
        "id": "0dc6476b-7a00-44f1-ac93-6e3baed33a29"
      },
      "source": [
        "# Юнит 3. Предварительный анализ данных"
      ]
    },
    {
      "attachments": {},
      "cell_type": "markdown",
      "id": "889782b6-8d1c-410e-8920-e57f27917c64",
      "metadata": {
        "id": "889782b6-8d1c-410e-8920-e57f27917c64"
      },
      "source": [
        "1. Напишите запрос, который посчитает количество вакансий в нашей базе (вакансии находятся в таблице vacancies). "
      ]
    },
    {
      "cell_type": "code",
      "execution_count": 9,
      "id": "bc39e68e-ed02-4ee2-9235-7258a2f867a8",
      "metadata": {
        "id": "bc39e68e-ed02-4ee2-9235-7258a2f867a8"
      },
      "outputs": [],
      "source": [
        "# текст запроса\n",
        "query_3_1 = f'''\n",
        "    SELECT COUNT(id)\n",
        "    FROM vacancies\n",
        "    \n",
        "'''"
      ]
    },
    {
      "cell_type": "code",
      "execution_count": 10,
      "id": "7mAwtsk4hEHY",
      "metadata": {
        "id": "7mAwtsk4hEHY"
      },
      "outputs": [
        {
          "name": "stderr",
          "output_type": "stream",
          "text": [
            "C:\\Users\\User\\AppData\\Local\\Temp\\ipykernel_16032\\4045908245.py:2: UserWarning: pandas only supports SQLAlchemy connectable (engine/connection) or database string URI or sqlite3 DBAPI2 connection. Other DBAPI2 objects are not tested. Please consider using SQLAlchemy.\n",
            "  df_3_1 = pd.read_sql_query(query_3_1, connection)\n"
          ]
        },
        {
          "data": {
            "text/html": [
              "<div>\n",
              "<style scoped>\n",
              "    .dataframe tbody tr th:only-of-type {\n",
              "        vertical-align: middle;\n",
              "    }\n",
              "\n",
              "    .dataframe tbody tr th {\n",
              "        vertical-align: top;\n",
              "    }\n",
              "\n",
              "    .dataframe thead th {\n",
              "        text-align: right;\n",
              "    }\n",
              "</style>\n",
              "<table border=\"1\" class=\"dataframe\">\n",
              "  <thead>\n",
              "    <tr style=\"text-align: right;\">\n",
              "      <th></th>\n",
              "      <th>count</th>\n",
              "    </tr>\n",
              "  </thead>\n",
              "  <tbody>\n",
              "    <tr>\n",
              "      <th>0</th>\n",
              "      <td>49197</td>\n",
              "    </tr>\n",
              "  </tbody>\n",
              "</table>\n",
              "</div>"
            ],
            "text/plain": [
              "   count\n",
              "0  49197"
            ]
          },
          "execution_count": 10,
          "metadata": {},
          "output_type": "execute_result"
        }
      ],
      "source": [
        "# результат запроса\n",
        "df_3_1 = pd.read_sql_query(query_3_1, connection)\n",
        "df_3_1"
      ]
    },
    {
      "attachments": {},
      "cell_type": "markdown",
      "id": "b583485d-1f9e-494e-ada4-80ffff7c53d6",
      "metadata": {
        "id": "b583485d-1f9e-494e-ada4-80ffff7c53d6"
      },
      "source": [
        "2. Напишите запрос, который посчитает количество работодателей (таблица employers). "
      ]
    },
    {
      "cell_type": "code",
      "execution_count": 136,
      "id": "5408c52c-3407-4a63-b25b-1aafa2322d28",
      "metadata": {
        "id": "5408c52c-3407-4a63-b25b-1aafa2322d28"
      },
      "outputs": [],
      "source": [
        "# текст запроса\n",
        "query_3_2 = f'''\n",
        "    SELECT DISTINCT COUNT(id)\n",
        "    FROM employers\n",
        "    \n",
        "'''"
      ]
    },
    {
      "cell_type": "code",
      "execution_count": 137,
      "id": "jVL4eshKhdqc",
      "metadata": {
        "id": "jVL4eshKhdqc"
      },
      "outputs": [
        {
          "name": "stderr",
          "output_type": "stream",
          "text": [
            "C:\\Users\\User\\AppData\\Local\\Temp\\ipykernel_7416\\533540996.py:2: UserWarning:\n",
            "\n",
            "pandas only supports SQLAlchemy connectable (engine/connection) or database string URI or sqlite3 DBAPI2 connection. Other DBAPI2 objects are not tested. Please consider using SQLAlchemy.\n",
            "\n"
          ]
        },
        {
          "data": {
            "text/html": [
              "<div>\n",
              "<style scoped>\n",
              "    .dataframe tbody tr th:only-of-type {\n",
              "        vertical-align: middle;\n",
              "    }\n",
              "\n",
              "    .dataframe tbody tr th {\n",
              "        vertical-align: top;\n",
              "    }\n",
              "\n",
              "    .dataframe thead th {\n",
              "        text-align: right;\n",
              "    }\n",
              "</style>\n",
              "<table border=\"1\" class=\"dataframe\">\n",
              "  <thead>\n",
              "    <tr style=\"text-align: right;\">\n",
              "      <th></th>\n",
              "      <th>count</th>\n",
              "    </tr>\n",
              "  </thead>\n",
              "  <tbody>\n",
              "    <tr>\n",
              "      <th>0</th>\n",
              "      <td>23501</td>\n",
              "    </tr>\n",
              "  </tbody>\n",
              "</table>\n",
              "</div>"
            ],
            "text/plain": [
              "   count\n",
              "0  23501"
            ]
          },
          "execution_count": 137,
          "metadata": {},
          "output_type": "execute_result"
        }
      ],
      "source": [
        "# результат запроса\n",
        "df_3_2 = pd.read_sql_query(query_3_2, connection)\n",
        "df_3_2"
      ]
    },
    {
      "attachments": {},
      "cell_type": "markdown",
      "id": "a2bfff1f-c975-4bf6-84be-2185d79dcb76",
      "metadata": {
        "id": "a2bfff1f-c975-4bf6-84be-2185d79dcb76"
      },
      "source": [
        "3. Посчитате с помощью запроса количество регионов (таблица areas)."
      ]
    },
    {
      "cell_type": "code",
      "execution_count": 138,
      "id": "1m8QJwBYhey6",
      "metadata": {
        "id": "1m8QJwBYhey6"
      },
      "outputs": [],
      "source": [
        "# текст запроса\n",
        "query_3_3 = f'''\n",
        "    SELECT DISTINCT COUNT(id)\n",
        "    FROM areas\n",
        "    \n",
        "'''"
      ]
    },
    {
      "cell_type": "code",
      "execution_count": 139,
      "id": "EZsn9tlfhe7f",
      "metadata": {
        "id": "EZsn9tlfhe7f"
      },
      "outputs": [
        {
          "name": "stderr",
          "output_type": "stream",
          "text": [
            "C:\\Users\\User\\AppData\\Local\\Temp\\ipykernel_7416\\1395976625.py:2: UserWarning:\n",
            "\n",
            "pandas only supports SQLAlchemy connectable (engine/connection) or database string URI or sqlite3 DBAPI2 connection. Other DBAPI2 objects are not tested. Please consider using SQLAlchemy.\n",
            "\n"
          ]
        },
        {
          "data": {
            "text/html": [
              "<div>\n",
              "<style scoped>\n",
              "    .dataframe tbody tr th:only-of-type {\n",
              "        vertical-align: middle;\n",
              "    }\n",
              "\n",
              "    .dataframe tbody tr th {\n",
              "        vertical-align: top;\n",
              "    }\n",
              "\n",
              "    .dataframe thead th {\n",
              "        text-align: right;\n",
              "    }\n",
              "</style>\n",
              "<table border=\"1\" class=\"dataframe\">\n",
              "  <thead>\n",
              "    <tr style=\"text-align: right;\">\n",
              "      <th></th>\n",
              "      <th>count</th>\n",
              "    </tr>\n",
              "  </thead>\n",
              "  <tbody>\n",
              "    <tr>\n",
              "      <th>0</th>\n",
              "      <td>1362</td>\n",
              "    </tr>\n",
              "  </tbody>\n",
              "</table>\n",
              "</div>"
            ],
            "text/plain": [
              "   count\n",
              "0   1362"
            ]
          },
          "execution_count": 139,
          "metadata": {},
          "output_type": "execute_result"
        }
      ],
      "source": [
        "# результат запроса\n",
        "df_3_3 = pd.read_sql_query(query_3_3, connection)\n",
        "df_3_3"
      ]
    },
    {
      "attachments": {},
      "cell_type": "markdown",
      "id": "41bb59f3-53cc-4a67-a5bc-bedf573955e4",
      "metadata": {
        "id": "41bb59f3-53cc-4a67-a5bc-bedf573955e4"
      },
      "source": [
        "4. Посчитате с помощью запроса количество сфер деятельности в базе (таблица industries)."
      ]
    },
    {
      "cell_type": "code",
      "execution_count": 140,
      "id": "d286cf4c-707b-4cd2-9190-7ab3587d04a1",
      "metadata": {
        "id": "d286cf4c-707b-4cd2-9190-7ab3587d04a1"
      },
      "outputs": [],
      "source": [
        "# текст запроса\n",
        "query_3_4 = f'''\n",
        "    SELECT DISTINCT COUNT(id)\n",
        "    FROM industries\n",
        "    \n",
        "'''"
      ]
    },
    {
      "cell_type": "code",
      "execution_count": 141,
      "id": "JYAaoZ4qhfzW",
      "metadata": {
        "id": "JYAaoZ4qhfzW"
      },
      "outputs": [
        {
          "name": "stderr",
          "output_type": "stream",
          "text": [
            "C:\\Users\\User\\AppData\\Local\\Temp\\ipykernel_7416\\854197215.py:2: UserWarning:\n",
            "\n",
            "pandas only supports SQLAlchemy connectable (engine/connection) or database string URI or sqlite3 DBAPI2 connection. Other DBAPI2 objects are not tested. Please consider using SQLAlchemy.\n",
            "\n"
          ]
        },
        {
          "data": {
            "text/html": [
              "<div>\n",
              "<style scoped>\n",
              "    .dataframe tbody tr th:only-of-type {\n",
              "        vertical-align: middle;\n",
              "    }\n",
              "\n",
              "    .dataframe tbody tr th {\n",
              "        vertical-align: top;\n",
              "    }\n",
              "\n",
              "    .dataframe thead th {\n",
              "        text-align: right;\n",
              "    }\n",
              "</style>\n",
              "<table border=\"1\" class=\"dataframe\">\n",
              "  <thead>\n",
              "    <tr style=\"text-align: right;\">\n",
              "      <th></th>\n",
              "      <th>count</th>\n",
              "    </tr>\n",
              "  </thead>\n",
              "  <tbody>\n",
              "    <tr>\n",
              "      <th>0</th>\n",
              "      <td>294</td>\n",
              "    </tr>\n",
              "  </tbody>\n",
              "</table>\n",
              "</div>"
            ],
            "text/plain": [
              "   count\n",
              "0    294"
            ]
          },
          "execution_count": 141,
          "metadata": {},
          "output_type": "execute_result"
        }
      ],
      "source": [
        "# результат запроса\n",
        "df_3_4 = pd.read_sql_query(query_3_4, connection)\n",
        "df_3_4"
      ]
    },
    {
      "attachments": {},
      "cell_type": "markdown",
      "id": "9a8a2181-6914-448b-85f1-38f5f18b8a93",
      "metadata": {
        "id": "9a8a2181-6914-448b-85f1-38f5f18b8a93"
      },
      "source": [
        "***"
      ]
    },
    {
      "cell_type": "markdown",
      "id": "d9872680",
      "metadata": {},
      "source": [
        "Выводы по предварительному анализу данных\n",
        "\n",
        "Всего в базе находится 49197 уникальных вакансий в 294 сферах. База содержит вакансии 23,5 тысячи работодателей, которые распределены по 1362 регионам."
      ]
    },
    {
      "attachments": {},
      "cell_type": "markdown",
      "id": "8d62a9f3-f64e-4fe7-bdac-c4dffa16155e",
      "metadata": {
        "id": "8d62a9f3-f64e-4fe7-bdac-c4dffa16155e"
      },
      "source": [
        "# Юнит 4. Детальный анализ вакансий"
      ]
    },
    {
      "attachments": {},
      "cell_type": "markdown",
      "id": "93053d3d-b284-481a-9cf7-012d7014c0e0",
      "metadata": {
        "id": "93053d3d-b284-481a-9cf7-012d7014c0e0"
      },
      "source": [
        "1. Напишите запрос, который позволит узнать, сколько (cnt) вакансий в каждом регионе (area).\n",
        "Отсортируйте по количеству вакансий в порядке убывания."
      ]
    },
    {
      "cell_type": "code",
      "execution_count": 154,
      "id": "3f069da6-fdc9-4ae7-b514-fafe2675efd3",
      "metadata": {
        "id": "3f069da6-fdc9-4ae7-b514-fafe2675efd3"
      },
      "outputs": [],
      "source": [
        "# текст запроса\n",
        "query_4_1 = f'''\n",
        "    SELECT\n",
        "        a.name AS \"Регион\",\n",
        "        COUNT(distinct v.id) AS \"Количество вакансий\"\n",
        "    FROM areas AS a\n",
        "    JOIN vacancies AS v ON v.area_id = a.id\n",
        "    GROUP BY 1\n",
        "    ORDER BY 2 DESC LIMIT 5\n",
        "    \n",
        "'''"
      ]
    },
    {
      "cell_type": "code",
      "execution_count": 155,
      "id": "P7QL86hrjhRJ",
      "metadata": {
        "id": "P7QL86hrjhRJ"
      },
      "outputs": [
        {
          "name": "stderr",
          "output_type": "stream",
          "text": [
            "C:\\Users\\User\\AppData\\Local\\Temp\\ipykernel_7416\\620650199.py:2: UserWarning:\n",
            "\n",
            "pandas only supports SQLAlchemy connectable (engine/connection) or database string URI or sqlite3 DBAPI2 connection. Other DBAPI2 objects are not tested. Please consider using SQLAlchemy.\n",
            "\n"
          ]
        },
        {
          "data": {
            "text/html": [
              "<div>\n",
              "<style scoped>\n",
              "    .dataframe tbody tr th:only-of-type {\n",
              "        vertical-align: middle;\n",
              "    }\n",
              "\n",
              "    .dataframe tbody tr th {\n",
              "        vertical-align: top;\n",
              "    }\n",
              "\n",
              "    .dataframe thead th {\n",
              "        text-align: right;\n",
              "    }\n",
              "</style>\n",
              "<table border=\"1\" class=\"dataframe\">\n",
              "  <thead>\n",
              "    <tr style=\"text-align: right;\">\n",
              "      <th></th>\n",
              "      <th>Регион</th>\n",
              "      <th>Количество вакансий</th>\n",
              "    </tr>\n",
              "  </thead>\n",
              "  <tbody>\n",
              "    <tr>\n",
              "      <th>0</th>\n",
              "      <td>Москва</td>\n",
              "      <td>5333</td>\n",
              "    </tr>\n",
              "    <tr>\n",
              "      <th>1</th>\n",
              "      <td>Санкт-Петербург</td>\n",
              "      <td>2851</td>\n",
              "    </tr>\n",
              "    <tr>\n",
              "      <th>2</th>\n",
              "      <td>Минск</td>\n",
              "      <td>2112</td>\n",
              "    </tr>\n",
              "    <tr>\n",
              "      <th>3</th>\n",
              "      <td>Новосибирск</td>\n",
              "      <td>2006</td>\n",
              "    </tr>\n",
              "    <tr>\n",
              "      <th>4</th>\n",
              "      <td>Алматы</td>\n",
              "      <td>1892</td>\n",
              "    </tr>\n",
              "  </tbody>\n",
              "</table>\n",
              "</div>"
            ],
            "text/plain": [
              "            Регион  Количество вакансий\n",
              "0           Москва                 5333\n",
              "1  Санкт-Петербург                 2851\n",
              "2            Минск                 2112\n",
              "3      Новосибирск                 2006\n",
              "4           Алматы                 1892"
            ]
          },
          "execution_count": 155,
          "metadata": {},
          "output_type": "execute_result"
        }
      ],
      "source": [
        "# результат запроса\n",
        "df_4_1 = pd.read_sql_query(query_4_1, connection)\n",
        "df_4_1"
      ]
    },
    {
      "attachments": {},
      "cell_type": "markdown",
      "id": "4266f0b6-1646-492a-88b4-2f6a46502135",
      "metadata": {
        "id": "4266f0b6-1646-492a-88b4-2f6a46502135"
      },
      "source": [
        "2. Напишите запрос, чтобы определить у какого количества вакансий заполнено хотя бы одно из двух полей с зарплатой."
      ]
    },
    {
      "cell_type": "code",
      "execution_count": 152,
      "id": "cb5c4f5e",
      "metadata": {},
      "outputs": [],
      "source": [
        "# текст запроса\n",
        "query_4_2 = f'''\n",
        "    SELECT COUNT(distinct id) AS \"Хотя бы одно поле ЗП заполнено\"\n",
        "    FROM\n",
        "        (SELECT\n",
        "            id,\n",
        "            salary_from\n",
        "        FROM vacancies\n",
        "        WHERE salary_from IS NOT NULL\n",
        "        \n",
        "        UNION ALL\n",
        "        \n",
        "        SELECT id, salary_to\n",
        "        FROM vacancies\n",
        "        WHERE salary_to IS NOT NULL) x\n",
        "        \n",
        "'''"
      ]
    },
    {
      "cell_type": "code",
      "execution_count": 153,
      "id": "rhvwaMDkoWTi",
      "metadata": {
        "id": "rhvwaMDkoWTi"
      },
      "outputs": [
        {
          "name": "stderr",
          "output_type": "stream",
          "text": [
            "C:\\Users\\User\\AppData\\Local\\Temp\\ipykernel_7416\\3746829199.py:2: UserWarning:\n",
            "\n",
            "pandas only supports SQLAlchemy connectable (engine/connection) or database string URI or sqlite3 DBAPI2 connection. Other DBAPI2 objects are not tested. Please consider using SQLAlchemy.\n",
            "\n"
          ]
        },
        {
          "data": {
            "text/html": [
              "<div>\n",
              "<style scoped>\n",
              "    .dataframe tbody tr th:only-of-type {\n",
              "        vertical-align: middle;\n",
              "    }\n",
              "\n",
              "    .dataframe tbody tr th {\n",
              "        vertical-align: top;\n",
              "    }\n",
              "\n",
              "    .dataframe thead th {\n",
              "        text-align: right;\n",
              "    }\n",
              "</style>\n",
              "<table border=\"1\" class=\"dataframe\">\n",
              "  <thead>\n",
              "    <tr style=\"text-align: right;\">\n",
              "      <th></th>\n",
              "      <th>Хотя бы одно поле ЗП заполнено</th>\n",
              "    </tr>\n",
              "  </thead>\n",
              "  <tbody>\n",
              "    <tr>\n",
              "      <th>0</th>\n",
              "      <td>24073</td>\n",
              "    </tr>\n",
              "  </tbody>\n",
              "</table>\n",
              "</div>"
            ],
            "text/plain": [
              "   Хотя бы одно поле ЗП заполнено\n",
              "0                           24073"
            ]
          },
          "execution_count": 153,
          "metadata": {},
          "output_type": "execute_result"
        }
      ],
      "source": [
        "# результат запроса\n",
        "df_4_2 = pd.read_sql_query(query_4_2, connection)\n",
        "df_4_2"
      ]
    },
    {
      "attachments": {},
      "cell_type": "markdown",
      "id": "635c4d5d-f323-4c66-b428-50a088120aa0",
      "metadata": {
        "id": "635c4d5d-f323-4c66-b428-50a088120aa0"
      },
      "source": [
        "3. Найдите средние значения для нижней и верхней границы зарплатной вилки. Округлите значения до целого."
      ]
    },
    {
      "cell_type": "code",
      "execution_count": 157,
      "id": "603cdbe4-0ec3-4106-8eaf-c73fcdd29165",
      "metadata": {
        "id": "603cdbe4-0ec3-4106-8eaf-c73fcdd29165"
      },
      "outputs": [],
      "source": [
        "# текст запроса\n",
        "query_4_3 = f'''\n",
        "    SELECT\n",
        "        ROUND(AVG(salary_from)) AS \"Нижняя граница средней ЗП\",\n",
        "        ROUND(AVG(salary_to)) AS \"Верхняя граница средней ЗП\"\n",
        "    FROM vacancies  \n",
        "        \n",
        "'''"
      ]
    },
    {
      "cell_type": "code",
      "execution_count": 158,
      "id": "pswpAb66ovZZ",
      "metadata": {
        "id": "pswpAb66ovZZ"
      },
      "outputs": [
        {
          "name": "stderr",
          "output_type": "stream",
          "text": [
            "C:\\Users\\User\\AppData\\Local\\Temp\\ipykernel_7416\\3595259731.py:2: UserWarning:\n",
            "\n",
            "pandas only supports SQLAlchemy connectable (engine/connection) or database string URI or sqlite3 DBAPI2 connection. Other DBAPI2 objects are not tested. Please consider using SQLAlchemy.\n",
            "\n"
          ]
        },
        {
          "data": {
            "text/html": [
              "<div>\n",
              "<style scoped>\n",
              "    .dataframe tbody tr th:only-of-type {\n",
              "        vertical-align: middle;\n",
              "    }\n",
              "\n",
              "    .dataframe tbody tr th {\n",
              "        vertical-align: top;\n",
              "    }\n",
              "\n",
              "    .dataframe thead th {\n",
              "        text-align: right;\n",
              "    }\n",
              "</style>\n",
              "<table border=\"1\" class=\"dataframe\">\n",
              "  <thead>\n",
              "    <tr style=\"text-align: right;\">\n",
              "      <th></th>\n",
              "      <th>Нижняя граница средней ЗП</th>\n",
              "      <th>Верхняя граница средней ЗП</th>\n",
              "    </tr>\n",
              "  </thead>\n",
              "  <tbody>\n",
              "    <tr>\n",
              "      <th>0</th>\n",
              "      <td>71065.0</td>\n",
              "      <td>110537.0</td>\n",
              "    </tr>\n",
              "  </tbody>\n",
              "</table>\n",
              "</div>"
            ],
            "text/plain": [
              "   Нижняя граница средней ЗП  Верхняя граница средней ЗП\n",
              "0                    71065.0                    110537.0"
            ]
          },
          "execution_count": 158,
          "metadata": {},
          "output_type": "execute_result"
        }
      ],
      "source": [
        "# результат запроса\n",
        "df_4_3 = pd.read_sql_query(query_4_3, connection)\n",
        "df_4_3"
      ]
    },
    {
      "attachments": {},
      "cell_type": "markdown",
      "id": "f3fdaec9-5fd3-4260-9cf5-1d7406b628a5",
      "metadata": {
        "id": "f3fdaec9-5fd3-4260-9cf5-1d7406b628a5"
      },
      "source": [
        "4. Напишите запрос, который выведет количество вакансий для каждого сочетания типа рабочего графика (schedule) и типа трудоустройства (employment), используемого в вакансиях. Результат отсортируйте по убыванию количества.\n"
      ]
    },
    {
      "cell_type": "code",
      "execution_count": 6,
      "id": "1ea710ec-871b-431e-9462-c7d0fd87011b",
      "metadata": {
        "id": "1ea710ec-871b-431e-9462-c7d0fd87011b"
      },
      "outputs": [],
      "source": [
        "# текст запроса\n",
        "query_4_4 = f'''\n",
        "    SELECT\n",
        "        DISTINCT schedule AS \"График\",\n",
        "        employment AS \"Тип трудоустройства\",\n",
        "        COUNT(*) AS \"Количество вакансий\"\n",
        "    FROM vacancies\n",
        "    GROUP BY 1,2\n",
        "    ORDER BY 3 DESC\n",
        "        \n",
        "'''"
      ]
    },
    {
      "cell_type": "code",
      "execution_count": 162,
      "id": "lGUVqavdo4JQ",
      "metadata": {
        "id": "lGUVqavdo4JQ"
      },
      "outputs": [
        {
          "name": "stderr",
          "output_type": "stream",
          "text": [
            "C:\\Users\\User\\AppData\\Local\\Temp\\ipykernel_7416\\2028972612.py:2: UserWarning:\n",
            "\n",
            "pandas only supports SQLAlchemy connectable (engine/connection) or database string URI or sqlite3 DBAPI2 connection. Other DBAPI2 objects are not tested. Please consider using SQLAlchemy.\n",
            "\n"
          ]
        },
        {
          "data": {
            "text/html": [
              "<div>\n",
              "<style scoped>\n",
              "    .dataframe tbody tr th:only-of-type {\n",
              "        vertical-align: middle;\n",
              "    }\n",
              "\n",
              "    .dataframe tbody tr th {\n",
              "        vertical-align: top;\n",
              "    }\n",
              "\n",
              "    .dataframe thead th {\n",
              "        text-align: right;\n",
              "    }\n",
              "</style>\n",
              "<table border=\"1\" class=\"dataframe\">\n",
              "  <thead>\n",
              "    <tr style=\"text-align: right;\">\n",
              "      <th></th>\n",
              "      <th>График</th>\n",
              "      <th>Тип трудоустройства</th>\n",
              "      <th>Количество вакансий</th>\n",
              "    </tr>\n",
              "  </thead>\n",
              "  <tbody>\n",
              "    <tr>\n",
              "      <th>0</th>\n",
              "      <td>Полный день</td>\n",
              "      <td>Полная занятость</td>\n",
              "      <td>35367</td>\n",
              "    </tr>\n",
              "    <tr>\n",
              "      <th>1</th>\n",
              "      <td>Удаленная работа</td>\n",
              "      <td>Полная занятость</td>\n",
              "      <td>7802</td>\n",
              "    </tr>\n",
              "    <tr>\n",
              "      <th>2</th>\n",
              "      <td>Гибкий график</td>\n",
              "      <td>Полная занятость</td>\n",
              "      <td>1593</td>\n",
              "    </tr>\n",
              "    <tr>\n",
              "      <th>3</th>\n",
              "      <td>Удаленная работа</td>\n",
              "      <td>Частичная занятость</td>\n",
              "      <td>1312</td>\n",
              "    </tr>\n",
              "    <tr>\n",
              "      <th>4</th>\n",
              "      <td>Сменный график</td>\n",
              "      <td>Полная занятость</td>\n",
              "      <td>940</td>\n",
              "    </tr>\n",
              "    <tr>\n",
              "      <th>5</th>\n",
              "      <td>Полный день</td>\n",
              "      <td>Стажировка</td>\n",
              "      <td>569</td>\n",
              "    </tr>\n",
              "    <tr>\n",
              "      <th>6</th>\n",
              "      <td>Вахтовый метод</td>\n",
              "      <td>Полная занятость</td>\n",
              "      <td>367</td>\n",
              "    </tr>\n",
              "    <tr>\n",
              "      <th>7</th>\n",
              "      <td>Полный день</td>\n",
              "      <td>Частичная занятость</td>\n",
              "      <td>347</td>\n",
              "    </tr>\n",
              "    <tr>\n",
              "      <th>8</th>\n",
              "      <td>Гибкий график</td>\n",
              "      <td>Частичная занятость</td>\n",
              "      <td>312</td>\n",
              "    </tr>\n",
              "    <tr>\n",
              "      <th>9</th>\n",
              "      <td>Полный день</td>\n",
              "      <td>Проектная работа</td>\n",
              "      <td>141</td>\n",
              "    </tr>\n",
              "    <tr>\n",
              "      <th>10</th>\n",
              "      <td>Удаленная работа</td>\n",
              "      <td>Проектная работа</td>\n",
              "      <td>133</td>\n",
              "    </tr>\n",
              "    <tr>\n",
              "      <th>11</th>\n",
              "      <td>Гибкий график</td>\n",
              "      <td>Стажировка</td>\n",
              "      <td>116</td>\n",
              "    </tr>\n",
              "    <tr>\n",
              "      <th>12</th>\n",
              "      <td>Сменный график</td>\n",
              "      <td>Частичная занятость</td>\n",
              "      <td>101</td>\n",
              "    </tr>\n",
              "    <tr>\n",
              "      <th>13</th>\n",
              "      <td>Удаленная работа</td>\n",
              "      <td>Стажировка</td>\n",
              "      <td>64</td>\n",
              "    </tr>\n",
              "    <tr>\n",
              "      <th>14</th>\n",
              "      <td>Гибкий график</td>\n",
              "      <td>Проектная работа</td>\n",
              "      <td>18</td>\n",
              "    </tr>\n",
              "    <tr>\n",
              "      <th>15</th>\n",
              "      <td>Сменный график</td>\n",
              "      <td>Стажировка</td>\n",
              "      <td>12</td>\n",
              "    </tr>\n",
              "    <tr>\n",
              "      <th>16</th>\n",
              "      <td>Вахтовый метод</td>\n",
              "      <td>Проектная работа</td>\n",
              "      <td>2</td>\n",
              "    </tr>\n",
              "    <tr>\n",
              "      <th>17</th>\n",
              "      <td>Сменный график</td>\n",
              "      <td>Проектная работа</td>\n",
              "      <td>1</td>\n",
              "    </tr>\n",
              "  </tbody>\n",
              "</table>\n",
              "</div>"
            ],
            "text/plain": [
              "              График  Тип трудоустройства  Количество вакансий\n",
              "0        Полный день     Полная занятость                35367\n",
              "1   Удаленная работа     Полная занятость                 7802\n",
              "2      Гибкий график     Полная занятость                 1593\n",
              "3   Удаленная работа  Частичная занятость                 1312\n",
              "4     Сменный график     Полная занятость                  940\n",
              "5        Полный день           Стажировка                  569\n",
              "6     Вахтовый метод     Полная занятость                  367\n",
              "7        Полный день  Частичная занятость                  347\n",
              "8      Гибкий график  Частичная занятость                  312\n",
              "9        Полный день     Проектная работа                  141\n",
              "10  Удаленная работа     Проектная работа                  133\n",
              "11     Гибкий график           Стажировка                  116\n",
              "12    Сменный график  Частичная занятость                  101\n",
              "13  Удаленная работа           Стажировка                   64\n",
              "14     Гибкий график     Проектная работа                   18\n",
              "15    Сменный график           Стажировка                   12\n",
              "16    Вахтовый метод     Проектная работа                    2\n",
              "17    Сменный график     Проектная работа                    1"
            ]
          },
          "execution_count": 162,
          "metadata": {},
          "output_type": "execute_result"
        }
      ],
      "source": [
        "# результат запроса\n",
        "df_4_4 = pd.read_sql_query(query_4_4, connection)\n",
        "df_4_4"
      ]
    },
    {
      "attachments": {},
      "cell_type": "markdown",
      "id": "0136ffee-0ead-4a6b-b608-61d1c753a438",
      "metadata": {
        "id": "0136ffee-0ead-4a6b-b608-61d1c753a438"
      },
      "source": [
        "5. Напишите запрос, выводящий значения поля Требуемый опыт работы (experience) в порядке возрастания количества вакансий, в которых указан данный вариант опыта. "
      ]
    },
    {
      "cell_type": "code",
      "execution_count": 163,
      "id": "5b3a8e79-f7ab-4008-b767-12aea3a205ea",
      "metadata": {
        "id": "5b3a8e79-f7ab-4008-b767-12aea3a205ea"
      },
      "outputs": [],
      "source": [
        "# текст запроса\n",
        "query_4_5 = f'''\n",
        "    SELECT\n",
        "        DISTINCT experience AS \"Требуемый опыт работы\",\n",
        "        COUNT(*) AS \"Количество вакансий\"\n",
        "    FROM vacancies\n",
        "    GROUP BY 1\n",
        "    ORDER BY 2\n",
        "        \n",
        "'''"
      ]
    },
    {
      "cell_type": "code",
      "execution_count": 164,
      "id": "3Is64Y-hpDpq",
      "metadata": {
        "id": "3Is64Y-hpDpq"
      },
      "outputs": [
        {
          "name": "stderr",
          "output_type": "stream",
          "text": [
            "C:\\Users\\User\\AppData\\Local\\Temp\\ipykernel_7416\\210463167.py:2: UserWarning:\n",
            "\n",
            "pandas only supports SQLAlchemy connectable (engine/connection) or database string URI or sqlite3 DBAPI2 connection. Other DBAPI2 objects are not tested. Please consider using SQLAlchemy.\n",
            "\n"
          ]
        },
        {
          "data": {
            "text/html": [
              "<div>\n",
              "<style scoped>\n",
              "    .dataframe tbody tr th:only-of-type {\n",
              "        vertical-align: middle;\n",
              "    }\n",
              "\n",
              "    .dataframe tbody tr th {\n",
              "        vertical-align: top;\n",
              "    }\n",
              "\n",
              "    .dataframe thead th {\n",
              "        text-align: right;\n",
              "    }\n",
              "</style>\n",
              "<table border=\"1\" class=\"dataframe\">\n",
              "  <thead>\n",
              "    <tr style=\"text-align: right;\">\n",
              "      <th></th>\n",
              "      <th>Требуемый опыт работы</th>\n",
              "      <th>Количество вакансий</th>\n",
              "    </tr>\n",
              "  </thead>\n",
              "  <tbody>\n",
              "    <tr>\n",
              "      <th>0</th>\n",
              "      <td>Более 6 лет</td>\n",
              "      <td>1337</td>\n",
              "    </tr>\n",
              "    <tr>\n",
              "      <th>1</th>\n",
              "      <td>Нет опыта</td>\n",
              "      <td>7197</td>\n",
              "    </tr>\n",
              "    <tr>\n",
              "      <th>2</th>\n",
              "      <td>От 3 до 6 лет</td>\n",
              "      <td>14511</td>\n",
              "    </tr>\n",
              "    <tr>\n",
              "      <th>3</th>\n",
              "      <td>От 1 года до 3 лет</td>\n",
              "      <td>26152</td>\n",
              "    </tr>\n",
              "  </tbody>\n",
              "</table>\n",
              "</div>"
            ],
            "text/plain": [
              "  Требуемый опыт работы  Количество вакансий\n",
              "0           Более 6 лет                 1337\n",
              "1             Нет опыта                 7197\n",
              "2         От 3 до 6 лет                14511\n",
              "3    От 1 года до 3 лет                26152"
            ]
          },
          "execution_count": 164,
          "metadata": {},
          "output_type": "execute_result"
        }
      ],
      "source": [
        "# результат запроса\n",
        "df_4_5 = pd.read_sql_query(query_4_5, connection)\n",
        "df_4_5"
      ]
    },
    {
      "cell_type": "markdown",
      "id": "f136a361",
      "metadata": {},
      "source": [
        "Выводы по детальному анализу вакансий\n",
        "\n",
        "Больше всего вакансий доступно в самых крупных городах. В пятёрку лидеров входит Алматы - крупнейший город Казахстана. Это говорит о том, что речь идёт о рынке труда не только в России, а во всех странах, где популярен сервис hh.ru. При работе с этой базой необходимо учитывать региональные особенности рынка труда.\n",
        "\n",
        "Только в половине вакансий (24072 из 49197) содержится хотя бы какая-то информация о зарплате. При этом средние значения для нижней и верхней границы зарплатной вилки составляют 71065 рублей и 110537 рублей\n",
        "\n",
        "Наиболее типичным сочетанием типа трудоустройства и рабочего графика является полная занятость и полный рабочий день (35367 или около 70% всех вакансий в базе). Почти в 5 раз меньше (7802) - удалённая работа при полной занятости; на третьем месте - гибкий график при полной занятости (1593). А всего в базе содержится 18 различных сочетаний типа трудоустройства и рабочего графика.\n",
        "\n",
        "Чаще всего работодатели ищут сотрудников с опытом 1-3 года (26152 - почти половина вакансий), почти треть вакансий - с опытом 3-6 лет. Сотрудники без опыта работы требуются в 15% вакансий, реже всего указывается требование более 6 лет. Можно предположить, что в подавляющем большинстве профессий наличие опыта желательно, но всего за пару-тройку лет среднестатистический соискатель приобретает опыт достаточный для полноценного выполнения работы.\n"
      ]
    },
    {
      "attachments": {},
      "cell_type": "markdown",
      "id": "oq2b7n1QpIka",
      "metadata": {
        "id": "oq2b7n1QpIka"
      },
      "source": [
        "***"
      ]
    },
    {
      "attachments": {},
      "cell_type": "markdown",
      "id": "7ea20ab6-04a7-40a0-adec-443a0e5a42c3",
      "metadata": {
        "id": "7ea20ab6-04a7-40a0-adec-443a0e5a42c3"
      },
      "source": [
        "# Юнит 5. Анализ работодателей"
      ]
    },
    {
      "attachments": {},
      "cell_type": "markdown",
      "id": "968aed80-74ef-4ffb-b5bf-c65b84e9caea",
      "metadata": {
        "id": "968aed80-74ef-4ffb-b5bf-c65b84e9caea"
      },
      "source": [
        "1. Напишите запрос, который позволит узнать, какие работодатели находятся на первом и пятом месте по количеству вакансий."
      ]
    },
    {
      "cell_type": "code",
      "execution_count": 165,
      "id": "f2d62796-d400-4ec1-a675-88112739a50e",
      "metadata": {
        "id": "f2d62796-d400-4ec1-a675-88112739a50e"
      },
      "outputs": [],
      "source": [
        "# текст запроса\n",
        "query_5_1 = f'''\n",
        "    SELECT\n",
        "        e.name AS \"Крупнейшие работодатели\",\n",
        "        COUNT(v.id) AS \"Количество вакансий\"\n",
        "    FROM\n",
        "        employers AS e\n",
        "    JOIN\n",
        "        vacancies AS v ON e.id = v.employer_id\n",
        "    GROUP BY 1\n",
        "    ORDER BY 2 DESC\n",
        "    LIMIT 5\n",
        "\n",
        "'''"
      ]
    },
    {
      "cell_type": "code",
      "execution_count": 166,
      "id": "64tOMkAxqkQk",
      "metadata": {
        "id": "64tOMkAxqkQk"
      },
      "outputs": [
        {
          "name": "stderr",
          "output_type": "stream",
          "text": [
            "C:\\Users\\User\\AppData\\Local\\Temp\\ipykernel_7416\\1147638897.py:2: UserWarning:\n",
            "\n",
            "pandas only supports SQLAlchemy connectable (engine/connection) or database string URI or sqlite3 DBAPI2 connection. Other DBAPI2 objects are not tested. Please consider using SQLAlchemy.\n",
            "\n"
          ]
        },
        {
          "data": {
            "text/html": [
              "<div>\n",
              "<style scoped>\n",
              "    .dataframe tbody tr th:only-of-type {\n",
              "        vertical-align: middle;\n",
              "    }\n",
              "\n",
              "    .dataframe tbody tr th {\n",
              "        vertical-align: top;\n",
              "    }\n",
              "\n",
              "    .dataframe thead th {\n",
              "        text-align: right;\n",
              "    }\n",
              "</style>\n",
              "<table border=\"1\" class=\"dataframe\">\n",
              "  <thead>\n",
              "    <tr style=\"text-align: right;\">\n",
              "      <th></th>\n",
              "      <th>Крупнейшие работодатели</th>\n",
              "      <th>Количество вакансий</th>\n",
              "    </tr>\n",
              "  </thead>\n",
              "  <tbody>\n",
              "    <tr>\n",
              "      <th>0</th>\n",
              "      <td>Яндекс</td>\n",
              "      <td>1933</td>\n",
              "    </tr>\n",
              "    <tr>\n",
              "      <th>1</th>\n",
              "      <td>Ростелеком</td>\n",
              "      <td>491</td>\n",
              "    </tr>\n",
              "    <tr>\n",
              "      <th>2</th>\n",
              "      <td>Тинькофф</td>\n",
              "      <td>444</td>\n",
              "    </tr>\n",
              "    <tr>\n",
              "      <th>3</th>\n",
              "      <td>СБЕР</td>\n",
              "      <td>428</td>\n",
              "    </tr>\n",
              "    <tr>\n",
              "      <th>4</th>\n",
              "      <td>Газпром нефть</td>\n",
              "      <td>331</td>\n",
              "    </tr>\n",
              "  </tbody>\n",
              "</table>\n",
              "</div>"
            ],
            "text/plain": [
              "  Крупнейшие работодатели  Количество вакансий\n",
              "0                  Яндекс                 1933\n",
              "1              Ростелеком                  491\n",
              "2                Тинькофф                  444\n",
              "3                    СБЕР                  428\n",
              "4           Газпром нефть                  331"
            ]
          },
          "execution_count": 166,
          "metadata": {},
          "output_type": "execute_result"
        }
      ],
      "source": [
        "# результат запроса\n",
        "df_5_1 = pd.read_sql_query(query_5_1, connection)\n",
        "df_5_1"
      ]
    },
    {
      "attachments": {},
      "cell_type": "markdown",
      "id": "68377cfc-b378-43dc-ab7d-1195abf2c515",
      "metadata": {
        "id": "68377cfc-b378-43dc-ab7d-1195abf2c515"
      },
      "source": [
        "2. Напишите запрос, который для каждого региона выведет количество работодателей и вакансий в нём.\n",
        "Среди регионов, в которых нет вакансий, найдите тот, в котором наибольшее количество работодателей.\n"
      ]
    },
    {
      "cell_type": "code",
      "execution_count": 4,
      "id": "dd7df27a-e3e8-412e-a21a-5d389b71e891",
      "metadata": {
        "id": "dd7df27a-e3e8-412e-a21a-5d389b71e891"
      },
      "outputs": [],
      "source": [
        "# текст запроса\n",
        "query_5_2 = f'''\n",
        "    SELECT\n",
        "        a.name AS \"Регион\",\n",
        "        COUNT(DISTINCT e.id) AS \"Количество работодателей\",\n",
        "        COUNT(v.id) AS \"Количество вакансий\"\n",
        "    FROM areas AS a\n",
        "    JOIN employers AS e ON a.id = e.area\n",
        "    LEFT JOIN vacancies AS v ON a.id = v.area_id\n",
        "    WHERE v.id IS NULL\n",
        "    GROUP BY 1\n",
        "    ORDER BY 3, 2 DESC\n",
        "    \n",
        "'''"
      ]
    },
    {
      "cell_type": "code",
      "execution_count": 5,
      "id": "x1ikWbydrbf6",
      "metadata": {
        "id": "x1ikWbydrbf6"
      },
      "outputs": [
        {
          "name": "stderr",
          "output_type": "stream",
          "text": [
            "C:\\Users\\User\\AppData\\Local\\Temp\\ipykernel_21712\\2306256317.py:2: UserWarning: pandas only supports SQLAlchemy connectable (engine/connection) or database string URI or sqlite3 DBAPI2 connection. Other DBAPI2 objects are not tested. Please consider using SQLAlchemy.\n",
            "  df_5_2 = pd.read_sql_query(query_5_2, connection)\n"
          ]
        },
        {
          "data": {
            "text/html": [
              "<div>\n",
              "<style scoped>\n",
              "    .dataframe tbody tr th:only-of-type {\n",
              "        vertical-align: middle;\n",
              "    }\n",
              "\n",
              "    .dataframe tbody tr th {\n",
              "        vertical-align: top;\n",
              "    }\n",
              "\n",
              "    .dataframe thead th {\n",
              "        text-align: right;\n",
              "    }\n",
              "</style>\n",
              "<table border=\"1\" class=\"dataframe\">\n",
              "  <thead>\n",
              "    <tr style=\"text-align: right;\">\n",
              "      <th></th>\n",
              "      <th>Регион</th>\n",
              "      <th>Количество работодателей</th>\n",
              "      <th>Количество вакансий</th>\n",
              "    </tr>\n",
              "  </thead>\n",
              "  <tbody>\n",
              "    <tr>\n",
              "      <th>0</th>\n",
              "      <td>Россия</td>\n",
              "      <td>410</td>\n",
              "      <td>0</td>\n",
              "    </tr>\n",
              "    <tr>\n",
              "      <th>1</th>\n",
              "      <td>Казахстан</td>\n",
              "      <td>207</td>\n",
              "      <td>0</td>\n",
              "    </tr>\n",
              "    <tr>\n",
              "      <th>2</th>\n",
              "      <td>Московская область</td>\n",
              "      <td>75</td>\n",
              "      <td>0</td>\n",
              "    </tr>\n",
              "    <tr>\n",
              "      <th>3</th>\n",
              "      <td>Краснодарский край</td>\n",
              "      <td>19</td>\n",
              "      <td>0</td>\n",
              "    </tr>\n",
              "    <tr>\n",
              "      <th>4</th>\n",
              "      <td>Беларусь</td>\n",
              "      <td>18</td>\n",
              "      <td>0</td>\n",
              "    </tr>\n",
              "    <tr>\n",
              "      <th>...</th>\n",
              "      <td>...</td>\n",
              "      <td>...</td>\n",
              "      <td>...</td>\n",
              "    </tr>\n",
              "    <tr>\n",
              "      <th>181</th>\n",
              "      <td>Миллерово</td>\n",
              "      <td>1</td>\n",
              "      <td>0</td>\n",
              "    </tr>\n",
              "    <tr>\n",
              "      <th>182</th>\n",
              "      <td>Михайловка (Уфимский район, Башкортостан)</td>\n",
              "      <td>1</td>\n",
              "      <td>0</td>\n",
              "    </tr>\n",
              "    <tr>\n",
              "      <th>183</th>\n",
              "      <td>Можайск</td>\n",
              "      <td>1</td>\n",
              "      <td>0</td>\n",
              "    </tr>\n",
              "    <tr>\n",
              "      <th>184</th>\n",
              "      <td>Морозовск\\n</td>\n",
              "      <td>1</td>\n",
              "      <td>0</td>\n",
              "    </tr>\n",
              "    <tr>\n",
              "      <th>185</th>\n",
              "      <td>Несвиж</td>\n",
              "      <td>1</td>\n",
              "      <td>0</td>\n",
              "    </tr>\n",
              "  </tbody>\n",
              "</table>\n",
              "<p>186 rows × 3 columns</p>\n",
              "</div>"
            ],
            "text/plain": [
              "                                        Регион  Количество работодателей  \\\n",
              "0                                       Россия                       410   \n",
              "1                                    Казахстан                       207   \n",
              "2                           Московская область                        75   \n",
              "3                           Краснодарский край                        19   \n",
              "4                                     Беларусь                        18   \n",
              "..                                         ...                       ...   \n",
              "181                                  Миллерово                         1   \n",
              "182  Михайловка (Уфимский район, Башкортостан)                         1   \n",
              "183                                    Можайск                         1   \n",
              "184                                Морозовск\\n                         1   \n",
              "185                                     Несвиж                         1   \n",
              "\n",
              "     Количество вакансий  \n",
              "0                      0  \n",
              "1                      0  \n",
              "2                      0  \n",
              "3                      0  \n",
              "4                      0  \n",
              "..                   ...  \n",
              "181                    0  \n",
              "182                    0  \n",
              "183                    0  \n",
              "184                    0  \n",
              "185                    0  \n",
              "\n",
              "[186 rows x 3 columns]"
            ]
          },
          "execution_count": 5,
          "metadata": {},
          "output_type": "execute_result"
        }
      ],
      "source": [
        "# результат запроса\n",
        "df_5_2 = pd.read_sql_query(query_5_2, connection)\n",
        "df_5_2"
      ]
    },
    {
      "attachments": {},
      "cell_type": "markdown",
      "id": "f2fe0acb-ab1a-4e15-9326-2560e22d73c1",
      "metadata": {
        "id": "f2fe0acb-ab1a-4e15-9326-2560e22d73c1"
      },
      "source": [
        "3. Для каждого работодателя посчитайте количество регионов, в которых он публикует свои вакансии. Отсортируйте результат по убыванию количества.\n"
      ]
    },
    {
      "cell_type": "code",
      "execution_count": 7,
      "id": "6271f8ad-bd2e-4196-ae4a-5b39c4c1010e",
      "metadata": {
        "id": "6271f8ad-bd2e-4196-ae4a-5b39c4c1010e"
      },
      "outputs": [],
      "source": [
        "# текст запроса\n",
        "query_5_3 = f'''\n",
        "    SELECT\n",
        "        e.name AS \"Работодатель\",\n",
        "        COUNT(DISTINCT v.area_id) AS \"Количество регионов\"\n",
        "    FROM employers AS e\n",
        "    LEFT JOIN vacancies AS v on e.id = v.employer_id\n",
        "    GROUP BY 1\n",
        "    ORDER BY 2 DESC\n",
        "\n",
        "'''"
      ]
    },
    {
      "cell_type": "code",
      "execution_count": 8,
      "id": "1EIvX3HasH4F",
      "metadata": {
        "id": "1EIvX3HasH4F"
      },
      "outputs": [
        {
          "name": "stderr",
          "output_type": "stream",
          "text": [
            "C:\\Users\\User\\AppData\\Local\\Temp\\ipykernel_21712\\133400711.py:2: UserWarning: pandas only supports SQLAlchemy connectable (engine/connection) or database string URI or sqlite3 DBAPI2 connection. Other DBAPI2 objects are not tested. Please consider using SQLAlchemy.\n",
            "  df_5_3 = pd.read_sql_query(query_5_3, connection)\n"
          ]
        },
        {
          "data": {
            "text/html": [
              "<div>\n",
              "<style scoped>\n",
              "    .dataframe tbody tr th:only-of-type {\n",
              "        vertical-align: middle;\n",
              "    }\n",
              "\n",
              "    .dataframe tbody tr th {\n",
              "        vertical-align: top;\n",
              "    }\n",
              "\n",
              "    .dataframe thead th {\n",
              "        text-align: right;\n",
              "    }\n",
              "</style>\n",
              "<table border=\"1\" class=\"dataframe\">\n",
              "  <thead>\n",
              "    <tr style=\"text-align: right;\">\n",
              "      <th></th>\n",
              "      <th>Работодатель</th>\n",
              "      <th>Количество регионов</th>\n",
              "    </tr>\n",
              "  </thead>\n",
              "  <tbody>\n",
              "    <tr>\n",
              "      <th>0</th>\n",
              "      <td>Яндекс</td>\n",
              "      <td>181</td>\n",
              "    </tr>\n",
              "    <tr>\n",
              "      <th>1</th>\n",
              "      <td>Ростелеком</td>\n",
              "      <td>152</td>\n",
              "    </tr>\n",
              "    <tr>\n",
              "      <th>2</th>\n",
              "      <td>Спецремонт</td>\n",
              "      <td>116</td>\n",
              "    </tr>\n",
              "    <tr>\n",
              "      <th>3</th>\n",
              "      <td>Поляков Денис Иванович</td>\n",
              "      <td>88</td>\n",
              "    </tr>\n",
              "    <tr>\n",
              "      <th>4</th>\n",
              "      <td>ООО ЕФИН</td>\n",
              "      <td>71</td>\n",
              "    </tr>\n",
              "    <tr>\n",
              "      <th>...</th>\n",
              "      <td>...</td>\n",
              "      <td>...</td>\n",
              "    </tr>\n",
              "    <tr>\n",
              "      <th>23170</th>\n",
              "      <td>СДЕЛКА</td>\n",
              "      <td>0</td>\n",
              "    </tr>\n",
              "    <tr>\n",
              "      <th>23171</th>\n",
              "      <td>Alandr Group</td>\n",
              "      <td>0</td>\n",
              "    </tr>\n",
              "    <tr>\n",
              "      <th>23172</th>\n",
              "      <td>СДК</td>\n",
              "      <td>0</td>\n",
              "    </tr>\n",
              "    <tr>\n",
              "      <th>23173</th>\n",
              "      <td>Lemon Land Lombard</td>\n",
              "      <td>0</td>\n",
              "    </tr>\n",
              "    <tr>\n",
              "      <th>23174</th>\n",
              "      <td>Махина</td>\n",
              "      <td>0</td>\n",
              "    </tr>\n",
              "  </tbody>\n",
              "</table>\n",
              "<p>23175 rows × 2 columns</p>\n",
              "</div>"
            ],
            "text/plain": [
              "                 Работодатель  Количество регионов\n",
              "0                      Яндекс                  181\n",
              "1                  Ростелеком                  152\n",
              "2                  Спецремонт                  116\n",
              "3      Поляков Денис Иванович                   88\n",
              "4                   ООО ЕФИН                    71\n",
              "...                       ...                  ...\n",
              "23170                  СДЕЛКА                    0\n",
              "23171            Alandr Group                    0\n",
              "23172                     СДК                    0\n",
              "23173      Lemon Land Lombard                    0\n",
              "23174                  Махина                    0\n",
              "\n",
              "[23175 rows x 2 columns]"
            ]
          },
          "execution_count": 8,
          "metadata": {},
          "output_type": "execute_result"
        }
      ],
      "source": [
        "# результат запроса\n",
        "df_5_3 = pd.read_sql_query(query_5_3, connection)\n",
        "df_5_3"
      ]
    },
    {
      "attachments": {},
      "cell_type": "markdown",
      "id": "eab2206d-d95b-468b-8e5f-34381abf0ce7",
      "metadata": {
        "id": "eab2206d-d95b-468b-8e5f-34381abf0ce7"
      },
      "source": [
        "4. Напишите запрос для подсчёта количества работодателей, у которых не указана сфера деятельности. "
      ]
    },
    {
      "cell_type": "code",
      "execution_count": 9,
      "id": "80defb23-bfb1-4a18-8be6-bf36aa7165d5",
      "metadata": {
        "id": "80defb23-bfb1-4a18-8be6-bf36aa7165d5"
      },
      "outputs": [],
      "source": [
        "# текст запроса\n",
        "query_5_4 = f'''\n",
        "    SELECT\n",
        "        COUNT(e.id) AS \"Сфера деятельности не указана\"\n",
        "    FROM employers e\n",
        "    LEFT JOIN employers_industries ei on ei.employer_id = e.id\n",
        "    WHERE ei.industry_id is null\n",
        "\n",
        "'''"
      ]
    },
    {
      "cell_type": "code",
      "execution_count": 10,
      "id": "Dp_yCx6ysQSu",
      "metadata": {
        "id": "Dp_yCx6ysQSu"
      },
      "outputs": [
        {
          "name": "stderr",
          "output_type": "stream",
          "text": [
            "C:\\Users\\User\\AppData\\Local\\Temp\\ipykernel_21712\\1045119256.py:2: UserWarning: pandas only supports SQLAlchemy connectable (engine/connection) or database string URI or sqlite3 DBAPI2 connection. Other DBAPI2 objects are not tested. Please consider using SQLAlchemy.\n",
            "  df_5_4 = pd.read_sql_query(query_5_4, connection)\n"
          ]
        },
        {
          "data": {
            "text/html": [
              "<div>\n",
              "<style scoped>\n",
              "    .dataframe tbody tr th:only-of-type {\n",
              "        vertical-align: middle;\n",
              "    }\n",
              "\n",
              "    .dataframe tbody tr th {\n",
              "        vertical-align: top;\n",
              "    }\n",
              "\n",
              "    .dataframe thead th {\n",
              "        text-align: right;\n",
              "    }\n",
              "</style>\n",
              "<table border=\"1\" class=\"dataframe\">\n",
              "  <thead>\n",
              "    <tr style=\"text-align: right;\">\n",
              "      <th></th>\n",
              "      <th>Сфера деятельности не указана</th>\n",
              "    </tr>\n",
              "  </thead>\n",
              "  <tbody>\n",
              "    <tr>\n",
              "      <th>0</th>\n",
              "      <td>8419</td>\n",
              "    </tr>\n",
              "  </tbody>\n",
              "</table>\n",
              "</div>"
            ],
            "text/plain": [
              "   Сфера деятельности не указана\n",
              "0                           8419"
            ]
          },
          "execution_count": 10,
          "metadata": {},
          "output_type": "execute_result"
        }
      ],
      "source": [
        "# результат запроса\n",
        "df_5_4 = pd.read_sql_query(query_5_4, connection)\n",
        "df_5_4"
      ]
    },
    {
      "attachments": {},
      "cell_type": "markdown",
      "id": "0112af31-f6b0-4e3b-82ab-71296e752e5e",
      "metadata": {
        "id": "0112af31-f6b0-4e3b-82ab-71296e752e5e"
      },
      "source": [
        "5. Напишите запрос, чтобы узнать название компании, находящейся на третьем месте в алфавитном списке (по названию) компаний, у которых указано четыре сферы деятельности. "
      ]
    },
    {
      "cell_type": "code",
      "execution_count": 11,
      "id": "973b0cfc-a972-470a-8b4a-68744ef220c4",
      "metadata": {
        "id": "973b0cfc-a972-470a-8b4a-68744ef220c4"
      },
      "outputs": [],
      "source": [
        "# текст запроса\n",
        "query_5_5 = f'''\n",
        "    SELECT\n",
        "        e.name AS  \"Название компании\",\n",
        "        COUNT(ei.industry_id) AS \"Количество сфер деятельности\"\n",
        "    FROM employers AS e\n",
        "    JOIN employers_industries AS ei on e.id = ei.employer_id\n",
        "    GROUP BY 1\n",
        "    HAVING COUNT (ei.industry_id) = 4\n",
        "    ORDER BY 1\n",
        "    OFFSET 2\n",
        "    LIMIT 1\n",
        "    \n",
        "'''"
      ]
    },
    {
      "cell_type": "code",
      "execution_count": 12,
      "id": "xsPtpp8EsaED",
      "metadata": {
        "id": "xsPtpp8EsaED"
      },
      "outputs": [
        {
          "name": "stderr",
          "output_type": "stream",
          "text": [
            "C:\\Users\\User\\AppData\\Local\\Temp\\ipykernel_21712\\4025176131.py:2: UserWarning: pandas only supports SQLAlchemy connectable (engine/connection) or database string URI or sqlite3 DBAPI2 connection. Other DBAPI2 objects are not tested. Please consider using SQLAlchemy.\n",
            "  df_5_5 = pd.read_sql_query(query_5_5, connection)\n"
          ]
        },
        {
          "data": {
            "text/html": [
              "<div>\n",
              "<style scoped>\n",
              "    .dataframe tbody tr th:only-of-type {\n",
              "        vertical-align: middle;\n",
              "    }\n",
              "\n",
              "    .dataframe tbody tr th {\n",
              "        vertical-align: top;\n",
              "    }\n",
              "\n",
              "    .dataframe thead th {\n",
              "        text-align: right;\n",
              "    }\n",
              "</style>\n",
              "<table border=\"1\" class=\"dataframe\">\n",
              "  <thead>\n",
              "    <tr style=\"text-align: right;\">\n",
              "      <th></th>\n",
              "      <th>Название компании</th>\n",
              "      <th>Количество сфер деятельности</th>\n",
              "    </tr>\n",
              "  </thead>\n",
              "  <tbody>\n",
              "    <tr>\n",
              "      <th>0</th>\n",
              "      <td>2ГИС</td>\n",
              "      <td>4</td>\n",
              "    </tr>\n",
              "  </tbody>\n",
              "</table>\n",
              "</div>"
            ],
            "text/plain": [
              "  Название компании  Количество сфер деятельности\n",
              "0              2ГИС                             4"
            ]
          },
          "execution_count": 12,
          "metadata": {},
          "output_type": "execute_result"
        }
      ],
      "source": [
        "# результат запроса\n",
        "df_5_5 = pd.read_sql_query(query_5_5, connection)\n",
        "df_5_5"
      ]
    },
    {
      "attachments": {},
      "cell_type": "markdown",
      "id": "3bfcfdaf-755d-4d2b-8ed8-326201dc07ab",
      "metadata": {
        "id": "3bfcfdaf-755d-4d2b-8ed8-326201dc07ab"
      },
      "source": [
        "6. С помощью запроса выясните, у какого количества работодателей в качестве сферы деятельности указана Разработка программного обеспечения.\n"
      ]
    },
    {
      "cell_type": "code",
      "execution_count": 13,
      "id": "ad3f270f-2991-47eb-929b-e8f88a55b0d1",
      "metadata": {
        "id": "ad3f270f-2991-47eb-929b-e8f88a55b0d1"
      },
      "outputs": [],
      "source": [
        "# текст запроса\n",
        "query_5_6 = f'''\n",
        "    SELECT\n",
        "        i.name AS \"Cфера деятельности\",\n",
        "        COUNT(e.employer_id) AS \"Количество работодателей\"\n",
        "    FROM employers_industries AS e\n",
        "    LEFT JOIN industries AS i on e.industry_id = i.id\n",
        "    WHERE i.name = 'Разработка программного обеспечения'\n",
        "    GROUP BY 1\n",
        "\n",
        "'''"
      ]
    },
    {
      "cell_type": "code",
      "execution_count": 14,
      "id": "H72qxWM0shPR",
      "metadata": {
        "id": "H72qxWM0shPR"
      },
      "outputs": [
        {
          "name": "stderr",
          "output_type": "stream",
          "text": [
            "C:\\Users\\User\\AppData\\Local\\Temp\\ipykernel_21712\\2713946032.py:2: UserWarning: pandas only supports SQLAlchemy connectable (engine/connection) or database string URI or sqlite3 DBAPI2 connection. Other DBAPI2 objects are not tested. Please consider using SQLAlchemy.\n",
            "  df_5_6 = pd.read_sql_query(query_5_6, connection)\n"
          ]
        },
        {
          "data": {
            "text/html": [
              "<div>\n",
              "<style scoped>\n",
              "    .dataframe tbody tr th:only-of-type {\n",
              "        vertical-align: middle;\n",
              "    }\n",
              "\n",
              "    .dataframe tbody tr th {\n",
              "        vertical-align: top;\n",
              "    }\n",
              "\n",
              "    .dataframe thead th {\n",
              "        text-align: right;\n",
              "    }\n",
              "</style>\n",
              "<table border=\"1\" class=\"dataframe\">\n",
              "  <thead>\n",
              "    <tr style=\"text-align: right;\">\n",
              "      <th></th>\n",
              "      <th>Cфера деятельности</th>\n",
              "      <th>Количество работодателей</th>\n",
              "    </tr>\n",
              "  </thead>\n",
              "  <tbody>\n",
              "    <tr>\n",
              "      <th>0</th>\n",
              "      <td>Разработка программного обеспечения</td>\n",
              "      <td>3553</td>\n",
              "    </tr>\n",
              "  </tbody>\n",
              "</table>\n",
              "</div>"
            ],
            "text/plain": [
              "                    Cфера деятельности  Количество работодателей\n",
              "0  Разработка программного обеспечения                      3553"
            ]
          },
          "execution_count": 14,
          "metadata": {},
          "output_type": "execute_result"
        }
      ],
      "source": [
        "# результат запроса\n",
        "df_5_6 = pd.read_sql_query(query_5_6, connection)\n",
        "df_5_6"
      ]
    },
    {
      "attachments": {},
      "cell_type": "markdown",
      "id": "7b02bb86-0546-40fb-94a4-242f050a5c57",
      "metadata": {
        "id": "7b02bb86-0546-40fb-94a4-242f050a5c57"
      },
      "source": [
        "7. Для компании «Яндекс» выведите список регионов-миллионников, в которых представлены вакансии компании, вместе с количеством вакансий в этих регионах. Также добавьте строку Total с общим количеством вакансий компании. Результат отсортируйте по возрастанию количества.\n",
        "\n",
        "Список городов-милионников надо взять [отсюда](https://ru.wikipedia.org/wiki/%D0%93%D0%BE%D1%80%D0%BE%D0%B4%D0%B0-%D0%BC%D0%B8%D0%BB%D0%BB%D0%B8%D0%BE%D0%BD%D0%B5%D1%80%D1%8B_%D0%A0%D0%BE%D1%81%D1%81%D0%B8%D0%B8). \n",
        "\n",
        "Если возникнут трудности с этим задание посмотрите материалы модуля  PYTHON-17. Как получать данные из веб-источников и API. "
      ]
    },
    {
      "cell_type": "code",
      "execution_count": 15,
      "id": "211a4f8f",
      "metadata": {},
      "outputs": [
        {
          "data": {
            "text/plain": [
              "('Москва',\n",
              " 'Санкт-Петербург',\n",
              " 'Новосибирск',\n",
              " 'Екатеринбург',\n",
              " 'Казань',\n",
              " 'Нижний Новгород',\n",
              " 'Красноярск',\n",
              " 'Челябинск',\n",
              " 'Самара',\n",
              " 'Уфа',\n",
              " 'Ростов-на-Дону',\n",
              " 'Краснодар',\n",
              " 'Омск',\n",
              " 'Воронеж',\n",
              " 'Пермь',\n",
              " 'Волгоград')"
            ]
          },
          "execution_count": 15,
          "metadata": {},
          "output_type": "execute_result"
        }
      ],
      "source": [
        "# код для получения списка городов-милионников\n",
        "import pandas as pd\n",
        "import urllib.parse as req\n",
        "\n",
        "path_common = req.urlparse('https://ru.wikipedia.org/wiki/Города-миллионеры_России#Список_городов-миллионеров')\n",
        "url = path_common.scheme + '://' + req.quote(path_common.netloc) +  req.quote(path_common.path) + '#'+ req.quote(path_common.fragment)\n",
        "\n",
        "df = pd.read_html(url)[1]\n",
        "cities = tuple(df['Город'].tolist())\n",
        "cities"
      ]
    },
    {
      "cell_type": "code",
      "execution_count": 18,
      "id": "5a0e32a4-e68a-4365-8a39-2fe24c542c36",
      "metadata": {
        "id": "5a0e32a4-e68a-4365-8a39-2fe24c542c36"
      },
      "outputs": [],
      "source": [
        "# текст запроса\n",
        "query_5_7 = f'''\n",
        "    (SELECT\n",
        "        a.name \"Город-миллионник\",\n",
        "        COUNT(v.id) \"Количество вакансий\"\n",
        "    FROM areas AS a\n",
        "    LEFT JOIN vacancies AS v ON a.id = v.area_id\n",
        "    JOIN employers AS e ON v.employer_id = e.id\n",
        "    WHERE e.name = 'Яндекс' AND a.name in {cities}\n",
        "    GROUP BY 1\n",
        "    ORDER BY 2)\n",
        "\n",
        "    union all\n",
        "\n",
        "    SELECT\n",
        "        'Total',\n",
        "        SUM(x.count)\n",
        "    FROM (SELECT\n",
        "            COUNT (v.id) AS count\n",
        "        FROM areas AS a\n",
        "        LEFT JOIN vacancies v ON a.id = v.area_id\n",
        "        JOIN employers e ON v.employer_id = e.id\n",
        "        WHERE e.name = 'Яндекс' AND a.name in {cities}) as x\n",
        "    ORDER BY 2 DESC\n",
        "'''"
      ]
    },
    {
      "cell_type": "code",
      "execution_count": 19,
      "id": "ttPhiO1rsvPq",
      "metadata": {
        "id": "ttPhiO1rsvPq"
      },
      "outputs": [
        {
          "name": "stderr",
          "output_type": "stream",
          "text": [
            "C:\\Users\\User\\AppData\\Local\\Temp\\ipykernel_21712\\2595257991.py:2: UserWarning: pandas only supports SQLAlchemy connectable (engine/connection) or database string URI or sqlite3 DBAPI2 connection. Other DBAPI2 objects are not tested. Please consider using SQLAlchemy.\n",
            "  df_5_7 = pd.read_sql_query(query_5_7, connection)\n"
          ]
        },
        {
          "data": {
            "text/html": [
              "<div>\n",
              "<style scoped>\n",
              "    .dataframe tbody tr th:only-of-type {\n",
              "        vertical-align: middle;\n",
              "    }\n",
              "\n",
              "    .dataframe tbody tr th {\n",
              "        vertical-align: top;\n",
              "    }\n",
              "\n",
              "    .dataframe thead th {\n",
              "        text-align: right;\n",
              "    }\n",
              "</style>\n",
              "<table border=\"1\" class=\"dataframe\">\n",
              "  <thead>\n",
              "    <tr style=\"text-align: right;\">\n",
              "      <th></th>\n",
              "      <th>Город-миллионник</th>\n",
              "      <th>Количество вакансий</th>\n",
              "    </tr>\n",
              "  </thead>\n",
              "  <tbody>\n",
              "    <tr>\n",
              "      <th>0</th>\n",
              "      <td>Total</td>\n",
              "      <td>485.0</td>\n",
              "    </tr>\n",
              "    <tr>\n",
              "      <th>1</th>\n",
              "      <td>Москва</td>\n",
              "      <td>54.0</td>\n",
              "    </tr>\n",
              "    <tr>\n",
              "      <th>2</th>\n",
              "      <td>Санкт-Петербург</td>\n",
              "      <td>42.0</td>\n",
              "    </tr>\n",
              "    <tr>\n",
              "      <th>3</th>\n",
              "      <td>Екатеринбург</td>\n",
              "      <td>39.0</td>\n",
              "    </tr>\n",
              "    <tr>\n",
              "      <th>4</th>\n",
              "      <td>Нижний Новгород</td>\n",
              "      <td>36.0</td>\n",
              "    </tr>\n",
              "    <tr>\n",
              "      <th>5</th>\n",
              "      <td>Новосибирск</td>\n",
              "      <td>35.0</td>\n",
              "    </tr>\n",
              "    <tr>\n",
              "      <th>6</th>\n",
              "      <td>Воронеж</td>\n",
              "      <td>32.0</td>\n",
              "    </tr>\n",
              "    <tr>\n",
              "      <th>7</th>\n",
              "      <td>Краснодар</td>\n",
              "      <td>30.0</td>\n",
              "    </tr>\n",
              "    <tr>\n",
              "      <th>8</th>\n",
              "      <td>Самара</td>\n",
              "      <td>26.0</td>\n",
              "    </tr>\n",
              "    <tr>\n",
              "      <th>9</th>\n",
              "      <td>Уфа</td>\n",
              "      <td>26.0</td>\n",
              "    </tr>\n",
              "    <tr>\n",
              "      <th>10</th>\n",
              "      <td>Пермь</td>\n",
              "      <td>25.0</td>\n",
              "    </tr>\n",
              "    <tr>\n",
              "      <th>11</th>\n",
              "      <td>Ростов-на-Дону</td>\n",
              "      <td>25.0</td>\n",
              "    </tr>\n",
              "    <tr>\n",
              "      <th>12</th>\n",
              "      <td>Казань</td>\n",
              "      <td>25.0</td>\n",
              "    </tr>\n",
              "    <tr>\n",
              "      <th>13</th>\n",
              "      <td>Волгоград</td>\n",
              "      <td>24.0</td>\n",
              "    </tr>\n",
              "    <tr>\n",
              "      <th>14</th>\n",
              "      <td>Красноярск</td>\n",
              "      <td>23.0</td>\n",
              "    </tr>\n",
              "    <tr>\n",
              "      <th>15</th>\n",
              "      <td>Челябинск</td>\n",
              "      <td>22.0</td>\n",
              "    </tr>\n",
              "    <tr>\n",
              "      <th>16</th>\n",
              "      <td>Омск</td>\n",
              "      <td>21.0</td>\n",
              "    </tr>\n",
              "  </tbody>\n",
              "</table>\n",
              "</div>"
            ],
            "text/plain": [
              "   Город-миллионник  Количество вакансий\n",
              "0             Total                485.0\n",
              "1            Москва                 54.0\n",
              "2   Санкт-Петербург                 42.0\n",
              "3      Екатеринбург                 39.0\n",
              "4   Нижний Новгород                 36.0\n",
              "5       Новосибирск                 35.0\n",
              "6           Воронеж                 32.0\n",
              "7         Краснодар                 30.0\n",
              "8            Самара                 26.0\n",
              "9               Уфа                 26.0\n",
              "10            Пермь                 25.0\n",
              "11   Ростов-на-Дону                 25.0\n",
              "12           Казань                 25.0\n",
              "13        Волгоград                 24.0\n",
              "14       Красноярск                 23.0\n",
              "15        Челябинск                 22.0\n",
              "16             Омск                 21.0"
            ]
          },
          "execution_count": 19,
          "metadata": {},
          "output_type": "execute_result"
        }
      ],
      "source": [
        "# результат запроса\n",
        "df_5_7 = pd.read_sql_query(query_5_7, connection)\n",
        "df_5_7"
      ]
    },
    {
      "attachments": {},
      "cell_type": "markdown",
      "id": "04966e40-3bc3-4dc8-9ba2-e80580ce3abc",
      "metadata": {
        "id": "04966e40-3bc3-4dc8-9ba2-e80580ce3abc"
      },
      "source": [
        "***"
      ]
    },
    {
      "cell_type": "markdown",
      "id": "23ae4233",
      "metadata": {},
      "source": [
        "Выводы по анализу работодателей\n",
        "\n",
        "Больше всего вакансий предлагает компания Яндекс (1933). Ростелеком, Тинькофф, Сбер и Газпром Нефть также в пятёрке лидеров.\n",
        "\n",
        "Среди регионов без вакансий, но с большим количеством работодателей, преобладают наиболее крупные территориальные единицы - страны, а также крупные регионы России с большим количеством городов. Вероятно, это связано с тем, что работодатель указал территорией своей деятельности регион(ы), а вакансии публикует в конкретных городах.\n",
        "\n",
        "Работодатель, предлагающий вакансии в максимальном количестве регионов — Яндекс (181 регион). На втором месте — Ростелеком (152 региона). На третьем месте некий предприниматель Поляков, который, судя по количеству регионов, где представлены его вакансии, разместил вакансии примерно в каждом субъекте РФ.\n",
        "\n",
        "Почти четверть работодателей не указали сферу деятельности (по крайней мере, не сделали этого в том виде, в каком предлагает hh.ru)\n",
        "\n",
        "С разработкой ПО связаны 3553 работодателя, разместивших вакансии на hh.ru\n",
        "\n",
        "У Яндекса 485 вакансий в городах-миллионниках, причём количество вакансий не пропорционально количеству жителей. Так например, население Нижнего Новгорода или Новосибирска более чем в 10 раз меньше населения Москвы, но количество вакансий в каждом из этих городов составляет примерно 2/3 от московских."
      ]
    },
    {
      "attachments": {},
      "cell_type": "markdown",
      "id": "b1ef156a-efcb-49ce-bb23-90763e7f35b2",
      "metadata": {
        "id": "b1ef156a-efcb-49ce-bb23-90763e7f35b2",
        "tags": []
      },
      "source": [
        "# Юнит 6. Предметный анализ"
      ]
    },
    {
      "attachments": {},
      "cell_type": "markdown",
      "id": "b9cd50a0-992d-4988-8463-2b2b1c4629b4",
      "metadata": {
        "id": "b9cd50a0-992d-4988-8463-2b2b1c4629b4"
      },
      "source": [
        "1. Сколько вакансий имеет отношение к данным?\n",
        "\n",
        "Считаем, что вакансия имеет отношение к данным, если в её названии содержатся слова 'data' или 'данн'.\n",
        "\n",
        "*Подсказка: Обратите внимание, что названия вакансий могут быть написаны в любом регистре.* \n"
      ]
    },
    {
      "cell_type": "code",
      "execution_count": 31,
      "id": "54ab0e50-c0f1-47cc-a54b-bc5c8bc363f9",
      "metadata": {
        "id": "54ab0e50-c0f1-47cc-a54b-bc5c8bc363f9"
      },
      "outputs": [],
      "source": [
        "# текст запроса\n",
        "query_6_1 = f'''\n",
        "    SELECT COUNT(*) AS \"Вакансии имеют отношение к данным\"\n",
        "    FROM vacancies\n",
        "    WHERE \n",
        "        name ILIKE '%data%' \n",
        "        OR name Ilike '%данн%'\n",
        "\n",
        "'''"
      ]
    },
    {
      "cell_type": "code",
      "execution_count": 32,
      "id": "9F1meAqsuUjd",
      "metadata": {
        "id": "9F1meAqsuUjd"
      },
      "outputs": [
        {
          "name": "stderr",
          "output_type": "stream",
          "text": [
            "C:\\Users\\User\\AppData\\Local\\Temp\\ipykernel_21712\\1281472032.py:2: UserWarning: pandas only supports SQLAlchemy connectable (engine/connection) or database string URI or sqlite3 DBAPI2 connection. Other DBAPI2 objects are not tested. Please consider using SQLAlchemy.\n",
            "  df_6_1 = pd.read_sql_query(query_6_1, connection)\n"
          ]
        },
        {
          "data": {
            "text/html": [
              "<div>\n",
              "<style scoped>\n",
              "    .dataframe tbody tr th:only-of-type {\n",
              "        vertical-align: middle;\n",
              "    }\n",
              "\n",
              "    .dataframe tbody tr th {\n",
              "        vertical-align: top;\n",
              "    }\n",
              "\n",
              "    .dataframe thead th {\n",
              "        text-align: right;\n",
              "    }\n",
              "</style>\n",
              "<table border=\"1\" class=\"dataframe\">\n",
              "  <thead>\n",
              "    <tr style=\"text-align: right;\">\n",
              "      <th></th>\n",
              "      <th>Вакансии имеют отношение к данным</th>\n",
              "    </tr>\n",
              "  </thead>\n",
              "  <tbody>\n",
              "    <tr>\n",
              "      <th>0</th>\n",
              "      <td>1771</td>\n",
              "    </tr>\n",
              "  </tbody>\n",
              "</table>\n",
              "</div>"
            ],
            "text/plain": [
              "   Вакансии имеют отношение к данным\n",
              "0                               1771"
            ]
          },
          "execution_count": 32,
          "metadata": {},
          "output_type": "execute_result"
        }
      ],
      "source": [
        "# результат запроса\n",
        "df_6_1 = pd.read_sql_query(query_6_1, connection)\n",
        "df_6_1"
      ]
    },
    {
      "attachments": {},
      "cell_type": "markdown",
      "id": "4dea20cb-a36b-474a-a0b9-e08e8e3857a5",
      "metadata": {
        "id": "4dea20cb-a36b-474a-a0b9-e08e8e3857a5"
      },
      "source": [
        "2. Сколько есть подходящих вакансий для начинающего дата-сайентиста? \n",
        "Будем считать вакансиями для дата-сайентистов такие, в названии которых есть хотя бы одно из следующих сочетаний:\n",
        "* 'data scientist'\n",
        "* 'data science'\n",
        "* 'исследователь данных'\n",
        "* 'ML' (здесь не нужно брать вакансии по HTML)\n",
        "* 'machine learning'\n",
        "* 'машинн%обучен%'\n",
        "\n",
        "** В следующих заданиях мы продолжим работать с вакансиями по этому условию.*\n",
        "\n",
        "Считаем вакансиями для специалистов уровня Junior следующие:\n",
        "* в названии есть слово 'junior' *или*\n",
        "* требуемый опыт — Нет опыта *или*\n",
        "* тип трудоустройства — Стажировка.\n",
        " "
      ]
    },
    {
      "cell_type": "code",
      "execution_count": 52,
      "id": "9c61b3c0-bb66-46c9-ae1e-81d3f5752b4a",
      "metadata": {
        "id": "9c61b3c0-bb66-46c9-ae1e-81d3f5752b4a"
      },
      "outputs": [],
      "source": [
        "# текст запроса\n",
        "query_6_2 = f'''\n",
        "    SELECT count(*) as \"DS вакансии уровня Junior\"\n",
        "    FROM vacancies\n",
        "    WHERE (name ilike '%data%scientist%' \n",
        "        OR name ilike '%data%science%'\n",
        "        OR name ilike '%исследователь%данных%'\n",
        "        OR (name like '%ML%' and name not ilike '%HTML%')\n",
        "        OR name ilike '%machine%learning%'\n",
        "        OR name ilike '%машинн%обучен%%')\n",
        "        AND (name ilike '%junior%'\n",
        "        OR experience = 'Нет опыта'\n",
        "        OR employment = 'Стажировка')\n",
        "    \n",
        "'''"
      ]
    },
    {
      "cell_type": "code",
      "execution_count": 53,
      "id": "ZNM-LLYuu1dj",
      "metadata": {
        "id": "ZNM-LLYuu1dj"
      },
      "outputs": [
        {
          "name": "stderr",
          "output_type": "stream",
          "text": [
            "C:\\Users\\User\\AppData\\Local\\Temp\\ipykernel_21712\\118162426.py:2: UserWarning: pandas only supports SQLAlchemy connectable (engine/connection) or database string URI or sqlite3 DBAPI2 connection. Other DBAPI2 objects are not tested. Please consider using SQLAlchemy.\n",
            "  df_6_2 = pd.read_sql_query(query_6_2, connection)\n"
          ]
        },
        {
          "data": {
            "text/html": [
              "<div>\n",
              "<style scoped>\n",
              "    .dataframe tbody tr th:only-of-type {\n",
              "        vertical-align: middle;\n",
              "    }\n",
              "\n",
              "    .dataframe tbody tr th {\n",
              "        vertical-align: top;\n",
              "    }\n",
              "\n",
              "    .dataframe thead th {\n",
              "        text-align: right;\n",
              "    }\n",
              "</style>\n",
              "<table border=\"1\" class=\"dataframe\">\n",
              "  <thead>\n",
              "    <tr style=\"text-align: right;\">\n",
              "      <th></th>\n",
              "      <th>DS вакансии уровня Junior</th>\n",
              "    </tr>\n",
              "  </thead>\n",
              "  <tbody>\n",
              "    <tr>\n",
              "      <th>0</th>\n",
              "      <td>51</td>\n",
              "    </tr>\n",
              "  </tbody>\n",
              "</table>\n",
              "</div>"
            ],
            "text/plain": [
              "   DS вакансии уровня Junior\n",
              "0                         51"
            ]
          },
          "execution_count": 53,
          "metadata": {},
          "output_type": "execute_result"
        }
      ],
      "source": [
        "# результат запроса\n",
        "df_6_2 = pd.read_sql_query(query_6_2, connection)\n",
        "df_6_2"
      ]
    },
    {
      "attachments": {},
      "cell_type": "markdown",
      "id": "eedceb80-c5ca-480e-b27a-278dfb8b4438",
      "metadata": {
        "id": "eedceb80-c5ca-480e-b27a-278dfb8b4438"
      },
      "source": [
        "3. Сколько есть вакансий для DS, в которых в качестве ключевого навыка указан SQL или postgres?\n",
        "\n",
        "** Критерии для отнесения вакансии к DS указаны в предыдущем задании.*"
      ]
    },
    {
      "cell_type": "code",
      "execution_count": 39,
      "id": "69621713-0cc5-4f1b-a1d7-bb144fa6148c",
      "metadata": {
        "id": "69621713-0cc5-4f1b-a1d7-bb144fa6148c"
      },
      "outputs": [],
      "source": [
        "# текст запроса\n",
        "query_6_3 = f'''\n",
        "    SELECT COUNT(*) as \"Вакансии, где требуется SQL или postgres\"\n",
        "    FROM vacancies\n",
        "    WHERE ((name LIKE '%ML%' AND name NOT ILIKE '%HTML%')\n",
        "        OR name ILIKE '%data%scientist%'\n",
        "        OR name ILIKE '%data%science%'\n",
        "        OR name ILIKE '%исследователь%данных%'\n",
        "        OR name ILIKE '%machine%learning%'\n",
        "        OR name ILIKE '%машинн%обучен%%')\n",
        "        AND (key_skills ILIKE '%SQL%' OR key_skills ILIKE 'postgres')\n",
        "\n",
        "'''"
      ]
    },
    {
      "cell_type": "code",
      "execution_count": 40,
      "id": "alA8WEAAvGdf",
      "metadata": {
        "id": "alA8WEAAvGdf"
      },
      "outputs": [
        {
          "name": "stderr",
          "output_type": "stream",
          "text": [
            "C:\\Users\\User\\AppData\\Local\\Temp\\ipykernel_21712\\3310962512.py:2: UserWarning: pandas only supports SQLAlchemy connectable (engine/connection) or database string URI or sqlite3 DBAPI2 connection. Other DBAPI2 objects are not tested. Please consider using SQLAlchemy.\n",
            "  df_6_3 = pd.read_sql_query(query_6_3, connection)\n"
          ]
        },
        {
          "data": {
            "text/html": [
              "<div>\n",
              "<style scoped>\n",
              "    .dataframe tbody tr th:only-of-type {\n",
              "        vertical-align: middle;\n",
              "    }\n",
              "\n",
              "    .dataframe tbody tr th {\n",
              "        vertical-align: top;\n",
              "    }\n",
              "\n",
              "    .dataframe thead th {\n",
              "        text-align: right;\n",
              "    }\n",
              "</style>\n",
              "<table border=\"1\" class=\"dataframe\">\n",
              "  <thead>\n",
              "    <tr style=\"text-align: right;\">\n",
              "      <th></th>\n",
              "      <th>Вакансии, где требуется SQL или postgres</th>\n",
              "    </tr>\n",
              "  </thead>\n",
              "  <tbody>\n",
              "    <tr>\n",
              "      <th>0</th>\n",
              "      <td>201</td>\n",
              "    </tr>\n",
              "  </tbody>\n",
              "</table>\n",
              "</div>"
            ],
            "text/plain": [
              "   Вакансии, где требуется SQL или postgres\n",
              "0                                       201"
            ]
          },
          "execution_count": 40,
          "metadata": {},
          "output_type": "execute_result"
        }
      ],
      "source": [
        "# результат запроса\n",
        "df_6_3 = pd.read_sql_query(query_6_3, connection)\n",
        "df_6_3"
      ]
    },
    {
      "attachments": {},
      "cell_type": "markdown",
      "id": "1be1e9c6-37cf-4a5f-bfeb-04cab799dc80",
      "metadata": {
        "id": "1be1e9c6-37cf-4a5f-bfeb-04cab799dc80"
      },
      "source": [
        "4. Проверьте, насколько популярен Python в требованиях работодателей к DS.Для этого вычислите количество вакансий, в которых в качестве ключевого навыка указан Python.\n",
        "\n",
        "** Это можно сделать помощью запроса, аналогичного предыдущему.*"
      ]
    },
    {
      "cell_type": "code",
      "execution_count": 37,
      "id": "0036a355-9ccf-4564-8b01-73d8194297e7",
      "metadata": {
        "id": "0036a355-9ccf-4564-8b01-73d8194297e7"
      },
      "outputs": [],
      "source": [
        "# текст запроса\n",
        "query_6_4 = f'''\n",
        "    SELECT COUNT(*) as \"Вакансии, где требуется Python\"\n",
        "    FROM vacancies\n",
        "    WHERE ((name LIKE '%ML%' AND name NOT ILIKE '%HTML%')\n",
        "        OR name ILIKE '%data%scientist%'\n",
        "        OR name ILIKE '%data%science%'\n",
        "        OR name ILIKE '%исследователь%данных%'\n",
        "        OR name ILIKE '%machine%learning%'\n",
        "        OR name ILIKE '%машинн%обучен%%')\n",
        "        AND (key_skills ilike '%python%')\n",
        "\n",
        "'''"
      ]
    },
    {
      "cell_type": "code",
      "execution_count": 38,
      "id": "1i-5WyucvQ6v",
      "metadata": {
        "id": "1i-5WyucvQ6v"
      },
      "outputs": [
        {
          "name": "stderr",
          "output_type": "stream",
          "text": [
            "C:\\Users\\User\\AppData\\Local\\Temp\\ipykernel_21712\\614304167.py:2: UserWarning: pandas only supports SQLAlchemy connectable (engine/connection) or database string URI or sqlite3 DBAPI2 connection. Other DBAPI2 objects are not tested. Please consider using SQLAlchemy.\n",
            "  df_6_4 = pd.read_sql_query(query_6_4, connection)\n"
          ]
        },
        {
          "data": {
            "text/html": [
              "<div>\n",
              "<style scoped>\n",
              "    .dataframe tbody tr th:only-of-type {\n",
              "        vertical-align: middle;\n",
              "    }\n",
              "\n",
              "    .dataframe tbody tr th {\n",
              "        vertical-align: top;\n",
              "    }\n",
              "\n",
              "    .dataframe thead th {\n",
              "        text-align: right;\n",
              "    }\n",
              "</style>\n",
              "<table border=\"1\" class=\"dataframe\">\n",
              "  <thead>\n",
              "    <tr style=\"text-align: right;\">\n",
              "      <th></th>\n",
              "      <th>Вакансии, где требуется Python</th>\n",
              "    </tr>\n",
              "  </thead>\n",
              "  <tbody>\n",
              "    <tr>\n",
              "      <th>0</th>\n",
              "      <td>351</td>\n",
              "    </tr>\n",
              "  </tbody>\n",
              "</table>\n",
              "</div>"
            ],
            "text/plain": [
              "   Вакансии, где требуется Python\n",
              "0                             351"
            ]
          },
          "execution_count": 38,
          "metadata": {},
          "output_type": "execute_result"
        }
      ],
      "source": [
        "# результат запроса\n",
        "df_6_4 = pd.read_sql_query(query_6_4, connection)\n",
        "df_6_4"
      ]
    },
    {
      "attachments": {},
      "cell_type": "markdown",
      "id": "ec3c8db7-fa21-4a41-a994-1af63742a642",
      "metadata": {
        "id": "ec3c8db7-fa21-4a41-a994-1af63742a642"
      },
      "source": [
        "5. Сколько ключевых навыков в среднем указывают в вакансиях для DS?\n",
        "Ответ округлите до двух знаков после точки-разделителя."
      ]
    },
    {
      "cell_type": "code",
      "execution_count": 44,
      "id": "949132bc-d5b6-4611-8218-0b9a504d74f4",
      "metadata": {
        "id": "949132bc-d5b6-4611-8218-0b9a504d74f4"
      },
      "outputs": [],
      "source": [
        "# текст запроса\n",
        "query_6_5 = f'''\n",
        "    SELECT ROUND(AVG((LENGTH(key_skills) - LENGTH(REPLACE(key_skills, CHR(9), '')))::integer+1),2) \"Среднее количество навыков для DS\"\n",
        "    FROM vacancies\n",
        "    WHERE ((name LIKE '%ML%' AND name NOT ILIKE '%HTML%')\n",
        "        OR name ILIKE '%data%scientist%'\n",
        "        OR name ILIKE '%data%science%'\n",
        "        OR name ILIKE '%исследователь%данных%'\n",
        "        OR name ILIKE '%machine%learning%'\n",
        "        OR name ILIKE '%машинн%обучен%%')\n",
        "        AND (key_skills IS NOT NULL)\n",
        "\n",
        "'''"
      ]
    },
    {
      "cell_type": "code",
      "execution_count": 45,
      "id": "a3V24Tvmviqk",
      "metadata": {
        "id": "a3V24Tvmviqk"
      },
      "outputs": [
        {
          "name": "stderr",
          "output_type": "stream",
          "text": [
            "C:\\Users\\User\\AppData\\Local\\Temp\\ipykernel_21712\\4089566367.py:2: UserWarning: pandas only supports SQLAlchemy connectable (engine/connection) or database string URI or sqlite3 DBAPI2 connection. Other DBAPI2 objects are not tested. Please consider using SQLAlchemy.\n",
            "  df_6_5 = pd.read_sql_query(query_6_5, connection)\n"
          ]
        },
        {
          "data": {
            "text/html": [
              "<div>\n",
              "<style scoped>\n",
              "    .dataframe tbody tr th:only-of-type {\n",
              "        vertical-align: middle;\n",
              "    }\n",
              "\n",
              "    .dataframe tbody tr th {\n",
              "        vertical-align: top;\n",
              "    }\n",
              "\n",
              "    .dataframe thead th {\n",
              "        text-align: right;\n",
              "    }\n",
              "</style>\n",
              "<table border=\"1\" class=\"dataframe\">\n",
              "  <thead>\n",
              "    <tr style=\"text-align: right;\">\n",
              "      <th></th>\n",
              "      <th>Среднее количество навыков для DS</th>\n",
              "    </tr>\n",
              "  </thead>\n",
              "  <tbody>\n",
              "    <tr>\n",
              "      <th>0</th>\n",
              "      <td>6.41</td>\n",
              "    </tr>\n",
              "  </tbody>\n",
              "</table>\n",
              "</div>"
            ],
            "text/plain": [
              "   Среднее количество навыков для DS\n",
              "0                               6.41"
            ]
          },
          "execution_count": 45,
          "metadata": {},
          "output_type": "execute_result"
        }
      ],
      "source": [
        "# результат запроса\n",
        "df_6_5 = pd.read_sql_query(query_6_5, connection)\n",
        "df_6_5"
      ]
    },
    {
      "attachments": {},
      "cell_type": "markdown",
      "id": "1041c17a-ca8f-4543-a0ca-32778914fb00",
      "metadata": {
        "id": "1041c17a-ca8f-4543-a0ca-32778914fb00"
      },
      "source": [
        "6. Напишите запрос, позволяющий вычислить, какую зарплату для DS в **среднем** указывают для каждого типа требуемого опыта (уникальное значение из поля *experience*). \n",
        "\n",
        "При решении задачи примите во внимание следующее:\n",
        "1. Рассматриваем только вакансии, у которых заполнено хотя бы одно из двух полей с зарплатой.\n",
        "2. Если заполнены оба поля с зарплатой, то считаем зарплату по каждой вакансии как сумму двух полей, делённую на 2. Если заполнено только одно из полей, то его и считаем зарплатой по вакансии.\n",
        "3. Если в расчётах участвует null, в результате он тоже даст null (посмотрите, что возвращает запрос select 1 + null). Чтобы избежать этой ситуацию, мы воспользуемся функцией [coalesce](https://postgrespro.ru/docs/postgresql/9.5/functions-conditional#functions-coalesce-nvl-ifnull), которая заменит null на значение, которое мы передадим. Например, посмотрите, что возвращает запрос `select 1 + coalesce(null, 0)`\n",
        "\n",
        "Выясните, на какую зарплату в среднем может рассчитывать дата-сайентист с опытом работы от 3 до 6 лет. Результат округлите до целого числа. "
      ]
    },
    {
      "cell_type": "code",
      "execution_count": 48,
      "id": "6a743d39-5204-48d3-8271-b9f88e68d40e",
      "metadata": {
        "id": "6a743d39-5204-48d3-8271-b9f88e68d40e"
      },
      "outputs": [],
      "source": [
        "# текст запроса\n",
        "query_6_6 = f'''\n",
        "    SELECT\n",
        "        experience AS \"Опыт работы\",\n",
        "        ROUND(AVG(COALESCE((salary_to + salary_from)/2, salary_from, salary_to)),0) AS \"Средняя зарплата\"\n",
        "    FROM vacancies\n",
        "    WHERE ((name LIKE '%ML%' AND name NOT ILIKE '%HTML%')\n",
        "        OR name ILIKE '%data%scientist%'\n",
        "        OR name ILIKE '%data%science%'\n",
        "        OR name ILIKE '%исследователь%данных%'\n",
        "        OR name ILIKE '%machine%learning%'\n",
        "        OR name ILIKE '%машинн%обучен%%')\n",
        "        AND (key_skills IS NOT NULL)\n",
        "    GROUP BY 1\n",
        "    ORDER BY 2 DESC\n",
        "    '''\n"
      ]
    },
    {
      "cell_type": "code",
      "execution_count": 49,
      "id": "aRIJ0mZEwU1_",
      "metadata": {
        "id": "aRIJ0mZEwU1_"
      },
      "outputs": [
        {
          "name": "stderr",
          "output_type": "stream",
          "text": [
            "C:\\Users\\User\\AppData\\Local\\Temp\\ipykernel_21712\\2297777544.py:2: UserWarning: pandas only supports SQLAlchemy connectable (engine/connection) or database string URI or sqlite3 DBAPI2 connection. Other DBAPI2 objects are not tested. Please consider using SQLAlchemy.\n",
            "  df_6_6 = pd.read_sql_query(query_6_6, connection)\n"
          ]
        },
        {
          "data": {
            "text/html": [
              "<div>\n",
              "<style scoped>\n",
              "    .dataframe tbody tr th:only-of-type {\n",
              "        vertical-align: middle;\n",
              "    }\n",
              "\n",
              "    .dataframe tbody tr th {\n",
              "        vertical-align: top;\n",
              "    }\n",
              "\n",
              "    .dataframe thead th {\n",
              "        text-align: right;\n",
              "    }\n",
              "</style>\n",
              "<table border=\"1\" class=\"dataframe\">\n",
              "  <thead>\n",
              "    <tr style=\"text-align: right;\">\n",
              "      <th></th>\n",
              "      <th>Опыт работы</th>\n",
              "      <th>Средняя зарплата</th>\n",
              "    </tr>\n",
              "  </thead>\n",
              "  <tbody>\n",
              "    <tr>\n",
              "      <th>0</th>\n",
              "      <td>Более 6 лет</td>\n",
              "      <td>NaN</td>\n",
              "    </tr>\n",
              "    <tr>\n",
              "      <th>1</th>\n",
              "      <td>От 3 до 6 лет</td>\n",
              "      <td>243115.0</td>\n",
              "    </tr>\n",
              "    <tr>\n",
              "      <th>2</th>\n",
              "      <td>От 1 года до 3 лет</td>\n",
              "      <td>146704.0</td>\n",
              "    </tr>\n",
              "    <tr>\n",
              "      <th>3</th>\n",
              "      <td>Нет опыта</td>\n",
              "      <td>74643.0</td>\n",
              "    </tr>\n",
              "  </tbody>\n",
              "</table>\n",
              "</div>"
            ],
            "text/plain": [
              "          Опыт работы  Средняя зарплата\n",
              "0         Более 6 лет               NaN\n",
              "1       От 3 до 6 лет          243115.0\n",
              "2  От 1 года до 3 лет          146704.0\n",
              "3           Нет опыта           74643.0"
            ]
          },
          "execution_count": 49,
          "metadata": {},
          "output_type": "execute_result"
        }
      ],
      "source": [
        "# результат запроса\n",
        "df_6_6 = pd.read_sql_query(query_6_6, connection)\n",
        "df_6_6"
      ]
    },
    {
      "attachments": {},
      "cell_type": "markdown",
      "id": "6a7892b4-4113-4746-adce-18aa2844f18e",
      "metadata": {
        "id": "6a7892b4-4113-4746-adce-18aa2844f18e"
      },
      "source": [
        "***"
      ]
    },
    {
      "cell_type": "markdown",
      "id": "cfd906f4",
      "metadata": {},
      "source": [
        "Выводы по предметному анализу\n",
        "\n",
        "1771 вакансия имеет отношение к данным\n",
        "\n",
        "Из 483* вакансий для специалистов по DataScience лишь 51 подойдёт для начинающих (483 получено из задания 6.2. путём исключения фильтрации по критерию \"для начинающих\")\n",
        "\n",
        "Среди DS-вакансий есть 201 вакансия, где в качестве ключевого навыка указан SQL или postgres и 351 вакансия, где в качестве ключевого навыка указан python\n",
        "\n",
        "В среднем в требованиях для DS-вакансий работодатели указывают 6-7 навыков\n",
        "\n",
        "DS-специалист без опыта работы в серднем может рассчитывать на 74,6 тыс. рублей, специалист с опытом работы от 1 года до 3 лет получают 146,7 тыс. руб., а со стажем более 3 лет — в среднем 243,1 тыс. руб."
      ]
    },
    {
      "cell_type": "markdown",
      "id": "439ad9b9",
      "metadata": {},
      "source": [
        "# Общий вывод по проекту"
      ]
    },
    {
      "cell_type": "markdown",
      "id": "18344e19",
      "metadata": {},
      "source": [
        "Наиболее крупными работодателями являются IT-компании, банки, за ними следуют компании нефте-газового сектора.\n",
        "\n",
        "Наибольшее количество вакансий сосредоточено в наиболее крупных городах в то время как в множестве мелких населённых пунктов вакансий нет совсем.\n",
        "\n",
        "Работа специалистов по Data Science оценивается работодателями высоко и потому выглядит привлекательно, но работодатели предпочитают иметь дело с опытными специалистами. Вакансий для новичков совсем немного, поэтому на входе в профессию конкуренция высока."
      ]
    },
    {
      "cell_type": "code",
      "execution_count": null,
      "id": "h9B3BL-wwj18",
      "metadata": {
        "id": "h9B3BL-wwj18"
      },
      "outputs": [],
      "source": [
        "# подведем итог исследования, обобщите выводы\n",
        "# здесь можно (это будет плюсом) провести дополнительные исследования данных, сделать прогнозы, продумать варианты продолжения исследования"
      ]
    },
    {
      "cell_type": "markdown",
      "id": "3007f33c",
      "metadata": {},
      "source": [
        "# 7. Дополнительное исследование данных"
      ]
    },
    {
      "cell_type": "markdown",
      "id": "6e6a3cbf",
      "metadata": {},
      "source": [
        "7.1. Общий обзор: топ-10 отраслей по количеству вакансий в них"
      ]
    },
    {
      "cell_type": "code",
      "execution_count": 72,
      "id": "e0584189",
      "metadata": {},
      "outputs": [],
      "source": [
        "# текст запроса\n",
        "query_7_1 = f'''\n",
        "\n",
        "    SELECT\n",
        "        i.name AS \"Сфера деятельности компании\",\n",
        "        count (v.id) AS \"Количество вакансий\"  \n",
        "    FROM vacancies AS v\n",
        "    JOIN employers e ON v.employer_id = e.id\n",
        "    JOIN (SELECT \n",
        "        DISTINCT employer_id,\n",
        "        industry_id   \n",
        "    FROM employers_industries) AS ei\n",
        "        ON ei.employer_id = e.id\n",
        "    JOIN industries i on ei.industry_id = i.id\n",
        "    GROUP by 1\n",
        "    ORDER BY 2 desc\n",
        "    LIMIT 10\n",
        "'''"
      ]
    },
    {
      "cell_type": "code",
      "execution_count": 73,
      "id": "25380f23",
      "metadata": {},
      "outputs": [
        {
          "name": "stderr",
          "output_type": "stream",
          "text": [
            "C:\\Users\\User\\AppData\\Local\\Temp\\ipykernel_21712\\1443944072.py:2: UserWarning:\n",
            "\n",
            "pandas only supports SQLAlchemy connectable (engine/connection) or database string URI or sqlite3 DBAPI2 connection. Other DBAPI2 objects are not tested. Please consider using SQLAlchemy.\n",
            "\n"
          ]
        },
        {
          "data": {
            "text/html": [
              "<div>\n",
              "<style scoped>\n",
              "    .dataframe tbody tr th:only-of-type {\n",
              "        vertical-align: middle;\n",
              "    }\n",
              "\n",
              "    .dataframe tbody tr th {\n",
              "        vertical-align: top;\n",
              "    }\n",
              "\n",
              "    .dataframe thead th {\n",
              "        text-align: right;\n",
              "    }\n",
              "</style>\n",
              "<table border=\"1\" class=\"dataframe\">\n",
              "  <thead>\n",
              "    <tr style=\"text-align: right;\">\n",
              "      <th></th>\n",
              "      <th>Сфера деятельности компании</th>\n",
              "      <th>Количество вакансий</th>\n",
              "    </tr>\n",
              "  </thead>\n",
              "  <tbody>\n",
              "    <tr>\n",
              "      <th>0</th>\n",
              "      <td>Разработка программного обеспечения</td>\n",
              "      <td>12499</td>\n",
              "    </tr>\n",
              "    <tr>\n",
              "      <th>1</th>\n",
              "      <td>Системная интеграция,  автоматизации технологи...</td>\n",
              "      <td>11034</td>\n",
              "    </tr>\n",
              "    <tr>\n",
              "      <th>2</th>\n",
              "      <td>Интернет-компания (поисковики, платежные систе...</td>\n",
              "      <td>6413</td>\n",
              "    </tr>\n",
              "    <tr>\n",
              "      <th>3</th>\n",
              "      <td>Банк</td>\n",
              "      <td>2742</td>\n",
              "    </tr>\n",
              "    <tr>\n",
              "      <th>4</th>\n",
              "      <td>Мобильная связь</td>\n",
              "      <td>1585</td>\n",
              "    </tr>\n",
              "    <tr>\n",
              "      <th>5</th>\n",
              "      <td>Кадровые агентства</td>\n",
              "      <td>1143</td>\n",
              "    </tr>\n",
              "    <tr>\n",
              "      <th>6</th>\n",
              "      <td>Консалтинговые услуги</td>\n",
              "      <td>1137</td>\n",
              "    </tr>\n",
              "    <tr>\n",
              "      <th>7</th>\n",
              "      <td>Интернет-провайдер</td>\n",
              "      <td>1095</td>\n",
              "    </tr>\n",
              "    <tr>\n",
              "      <th>8</th>\n",
              "      <td>Розничная сеть (продуктовая)</td>\n",
              "      <td>1034</td>\n",
              "    </tr>\n",
              "    <tr>\n",
              "      <th>9</th>\n",
              "      <td>Фиксированная связь</td>\n",
              "      <td>1028</td>\n",
              "    </tr>\n",
              "  </tbody>\n",
              "</table>\n",
              "</div>"
            ],
            "text/plain": [
              "                         Сфера деятельности компании  Количество вакансий\n",
              "0                Разработка программного обеспечения                12499\n",
              "1  Системная интеграция,  автоматизации технологи...                11034\n",
              "2  Интернет-компания (поисковики, платежные систе...                 6413\n",
              "3                                               Банк                 2742\n",
              "4                                    Мобильная связь                 1585\n",
              "5                                 Кадровые агентства                 1143\n",
              "6                              Консалтинговые услуги                 1137\n",
              "7                                 Интернет-провайдер                 1095\n",
              "8                       Розничная сеть (продуктовая)                 1034\n",
              "9                                Фиксированная связь                 1028"
            ]
          },
          "execution_count": 73,
          "metadata": {},
          "output_type": "execute_result"
        }
      ],
      "source": [
        "# результат запроса\n",
        "df_7_1 = pd.read_sql_query(query_7_1, connection)\n",
        "df_7_1"
      ]
    },
    {
      "cell_type": "markdown",
      "id": "36e19ac5",
      "metadata": {},
      "source": [
        "7.2. ТОП-10 отраслей по количеству вакансий для DS-специалистов"
      ]
    },
    {
      "cell_type": "code",
      "execution_count": 95,
      "id": "a7823f8a",
      "metadata": {},
      "outputs": [],
      "source": [
        "query_7_2 = f'''\n",
        "    SELECT\n",
        "        i.name \"Название сферы деятельности\",\n",
        "        COUNT(v.id) \"Количество DS-вакансий\"\n",
        "    FROM vacancies AS v\n",
        "    JOIN employers_industries AS ei on v.employer_id = ei.employer_id\n",
        "    JOIN industries AS i ON ei.industry_id = i.id\n",
        "    WHERE ((v.name LIKE '%ML%' AND v.name NOT ILIKE '%HTML%')\n",
        "        OR v.name ILIKE '%data%scientist%'\n",
        "        OR v.name ILIKE '%data%science%'\n",
        "        OR v.name ILIKE '%исследователь%данных%'\n",
        "        OR v.name ILIKE '%machine%learning%'\n",
        "        OR v.name ILIKE '%машинн%обучен%%')\n",
        "        AND (key_skills IS NOT NULL)\n",
        "    GROUP BY 1\n",
        "    ORDER BY 2 DESC\n",
        "    LIMIT 10\n",
        "\n",
        "'''"
      ]
    },
    {
      "cell_type": "code",
      "execution_count": 96,
      "id": "503552fc",
      "metadata": {},
      "outputs": [
        {
          "name": "stderr",
          "output_type": "stream",
          "text": [
            "C:\\Users\\User\\AppData\\Local\\Temp\\ipykernel_21712\\2016345237.py:2: UserWarning:\n",
            "\n",
            "pandas only supports SQLAlchemy connectable (engine/connection) or database string URI or sqlite3 DBAPI2 connection. Other DBAPI2 objects are not tested. Please consider using SQLAlchemy.\n",
            "\n"
          ]
        },
        {
          "data": {
            "text/html": [
              "<div>\n",
              "<style scoped>\n",
              "    .dataframe tbody tr th:only-of-type {\n",
              "        vertical-align: middle;\n",
              "    }\n",
              "\n",
              "    .dataframe tbody tr th {\n",
              "        vertical-align: top;\n",
              "    }\n",
              "\n",
              "    .dataframe thead th {\n",
              "        text-align: right;\n",
              "    }\n",
              "</style>\n",
              "<table border=\"1\" class=\"dataframe\">\n",
              "  <thead>\n",
              "    <tr style=\"text-align: right;\">\n",
              "      <th></th>\n",
              "      <th>Название сферы деятельности</th>\n",
              "      <th>Количество DS-вакансий</th>\n",
              "    </tr>\n",
              "  </thead>\n",
              "  <tbody>\n",
              "    <tr>\n",
              "      <th>0</th>\n",
              "      <td>Разработка программного обеспечения</td>\n",
              "      <td>144</td>\n",
              "    </tr>\n",
              "    <tr>\n",
              "      <th>1</th>\n",
              "      <td>Системная интеграция,  автоматизации технологи...</td>\n",
              "      <td>133</td>\n",
              "    </tr>\n",
              "    <tr>\n",
              "      <th>2</th>\n",
              "      <td>Банк</td>\n",
              "      <td>75</td>\n",
              "    </tr>\n",
              "    <tr>\n",
              "      <th>3</th>\n",
              "      <td>Интернет-компания (поисковики, платежные систе...</td>\n",
              "      <td>73</td>\n",
              "    </tr>\n",
              "    <tr>\n",
              "      <th>4</th>\n",
              "      <td>Маркетинговые, рекламные, BTL, дизайнерские, E...</td>\n",
              "      <td>22</td>\n",
              "    </tr>\n",
              "    <tr>\n",
              "      <th>5</th>\n",
              "      <td>Управляющая, инвестиционная компания (управлен...</td>\n",
              "      <td>21</td>\n",
              "    </tr>\n",
              "    <tr>\n",
              "      <th>6</th>\n",
              "      <td>Мобильная связь</td>\n",
              "      <td>18</td>\n",
              "    </tr>\n",
              "    <tr>\n",
              "      <th>7</th>\n",
              "      <td>Консалтинговые услуги</td>\n",
              "      <td>16</td>\n",
              "    </tr>\n",
              "    <tr>\n",
              "      <th>8</th>\n",
              "      <td>Фиксированная связь</td>\n",
              "      <td>12</td>\n",
              "    </tr>\n",
              "    <tr>\n",
              "      <th>9</th>\n",
              "      <td>Производство мультимедиа, контента, редакторск...</td>\n",
              "      <td>8</td>\n",
              "    </tr>\n",
              "  </tbody>\n",
              "</table>\n",
              "</div>"
            ],
            "text/plain": [
              "                         Название сферы деятельности  Количество DS-вакансий\n",
              "0                Разработка программного обеспечения                     144\n",
              "1  Системная интеграция,  автоматизации технологи...                     133\n",
              "2                                               Банк                      75\n",
              "3  Интернет-компания (поисковики, платежные систе...                      73\n",
              "4  Маркетинговые, рекламные, BTL, дизайнерские, E...                      22\n",
              "5  Управляющая, инвестиционная компания (управлен...                      21\n",
              "6                                    Мобильная связь                      18\n",
              "7                              Консалтинговые услуги                      16\n",
              "8                                Фиксированная связь                      12\n",
              "9  Производство мультимедиа, контента, редакторск...                       8"
            ]
          },
          "execution_count": 96,
          "metadata": {},
          "output_type": "execute_result"
        }
      ],
      "source": [
        "# результат запроса\n",
        "df_7_2 = pd.read_sql_query(query_7_2, connection)\n",
        "df_7_2"
      ]
    },
    {
      "cell_type": "markdown",
      "id": "3fc7c298",
      "metadata": {},
      "source": [
        "7.3. Какова зависимость заработной платы от опыта работы при найме DS-специалистов? Отличается ли это от ситуации на рынке труда в целом?"
      ]
    },
    {
      "cell_type": "code",
      "execution_count": 82,
      "id": "4e564a0f",
      "metadata": {},
      "outputs": [],
      "source": [
        "query_7_3 = f'''\n",
        "    SELECT\n",
        "        experience AS \"Опыт работы\",\n",
        "        ROUND(AVG(salary)) AS \"Заработная плата\",\n",
        "        'Вакансии в Data Science' as  \"Тип вакансии\"\n",
        "    FROM (\n",
        "        SELECT\n",
        "            experience, \n",
        "            salary_from AS salary\n",
        "        FROM vacancies AS v\n",
        "        WHERE ((name LIKE '%ML%' AND name NOT ILIKE '%HTML%')\n",
        "            OR name ILIKE '%data%scientist%'\n",
        "            OR name ILIKE '%data%science%'\n",
        "            OR name ILIKE '%исследователь%данных%'\n",
        "            OR name ILIKE '%machine%learning%'\n",
        "            OR name ILIKE '%машинн%обучен%%')\n",
        "            AND salary_from IS NOT NULL AND salary_to IS NULL\n",
        "    \n",
        "        UNION ALL\n",
        "    \n",
        "        SELECT\n",
        "            experience, \n",
        "            salary_to\n",
        "        FROM vacancies AS v\n",
        "        WHERE ((name LIKE '%ML%' AND name NOT ILIKE '%HTML%')\n",
        "            OR name ILIKE '%data%scientist%'\n",
        "            OR name ILIKE '%data%science%'\n",
        "            OR name ILIKE '%исследователь%данных%'\n",
        "            OR name ILIKE '%machine%learning%'\n",
        "            OR name ILIKE '%машинн%обучен%%')\n",
        "            AND salary_to IS NOT NULL AND salary_from IS NULL\n",
        "                    \n",
        "        UNION ALL\n",
        "                    \n",
        "        SELECT\n",
        "            experience, \n",
        "            (salary_to + salary_from)/2\n",
        "        FROM vacancies AS v\n",
        "        WHERE ((name LIKE '%ML%' AND name NOT ILIKE '%HTML%')\n",
        "            OR name ILIKE '%data%scientist%'\n",
        "            OR name ILIKE '%data%science%'\n",
        "            OR name ILIKE '%исследователь%данных%'\n",
        "            OR name ILIKE '%machine%learning%'\n",
        "            OR name ILIKE '%машинн%обучен%%')\n",
        "            AND salary_to IS NOT NULL AND salary_from IS NOT NULL\n",
        "            ) as x\n",
        "    GROUP BY 1\n",
        "            \n",
        "    UNION ALL\n",
        "            \n",
        "    SELECT \n",
        "        experience,\n",
        "        ROUND(avg(salary)),\n",
        "        'Все вакансии' as \"Тип вакансии\"\n",
        "    FROM (\n",
        "        SELECT\n",
        "            experience, \n",
        "            salary_from AS salary\n",
        "        FROM vacancies AS v\n",
        "        WHERE salary_from IS NOT NULL AND salary_to IS NULL\n",
        "                    \n",
        "        UNION ALL\n",
        "                    \n",
        "        SELECT\n",
        "            experience, \n",
        "            salary_to\n",
        "        FROM vacancies AS v\n",
        "        WHERE salary_to IS NOT NULL AND salary_from IS NULL\n",
        "                    \n",
        "        UNION ALL\n",
        "                    \n",
        "        SELECT\n",
        "            experience, \n",
        "            (salary_to + salary_from)/2\n",
        "        FROM vacancies AS v\n",
        "        WHERE salary_to IS NOT NULL AND salary_from IS NOT NULL\n",
        "            ) as x\n",
        "    GROUP by 1    \n",
        "            \n",
        "'''"
      ]
    },
    {
      "cell_type": "code",
      "execution_count": 83,
      "metadata": {},
      "outputs": [
        {
          "name": "stderr",
          "output_type": "stream",
          "text": [
            "C:\\Users\\User\\AppData\\Local\\Temp\\ipykernel_21712\\21475310.py:2: UserWarning:\n",
            "\n",
            "pandas only supports SQLAlchemy connectable (engine/connection) or database string URI or sqlite3 DBAPI2 connection. Other DBAPI2 objects are not tested. Please consider using SQLAlchemy.\n",
            "\n"
          ]
        },
        {
          "data": {
            "text/html": [
              "<div>\n",
              "<style scoped>\n",
              "    .dataframe tbody tr th:only-of-type {\n",
              "        vertical-align: middle;\n",
              "    }\n",
              "\n",
              "    .dataframe tbody tr th {\n",
              "        vertical-align: top;\n",
              "    }\n",
              "\n",
              "    .dataframe thead th {\n",
              "        text-align: right;\n",
              "    }\n",
              "</style>\n",
              "<table border=\"1\" class=\"dataframe\">\n",
              "  <thead>\n",
              "    <tr style=\"text-align: right;\">\n",
              "      <th></th>\n",
              "      <th>Опыт работы</th>\n",
              "      <th>Заработная плата</th>\n",
              "      <th>Тип вакансии</th>\n",
              "    </tr>\n",
              "  </thead>\n",
              "  <tbody>\n",
              "    <tr>\n",
              "      <th>0</th>\n",
              "      <td>Нет опыта</td>\n",
              "      <td>74643.0</td>\n",
              "      <td>Вакансии в Data Science</td>\n",
              "    </tr>\n",
              "    <tr>\n",
              "      <th>1</th>\n",
              "      <td>От 1 года до 3 лет</td>\n",
              "      <td>139675.0</td>\n",
              "      <td>Вакансии в Data Science</td>\n",
              "    </tr>\n",
              "    <tr>\n",
              "      <th>2</th>\n",
              "      <td>От 3 до 6 лет</td>\n",
              "      <td>243115.0</td>\n",
              "      <td>Вакансии в Data Science</td>\n",
              "    </tr>\n",
              "    <tr>\n",
              "      <th>3</th>\n",
              "      <td>От 3 до 6 лет</td>\n",
              "      <td>133211.0</td>\n",
              "      <td>Все вакансии</td>\n",
              "    </tr>\n",
              "    <tr>\n",
              "      <th>4</th>\n",
              "      <td>От 1 года до 3 лет</td>\n",
              "      <td>76541.0</td>\n",
              "      <td>Все вакансии</td>\n",
              "    </tr>\n",
              "    <tr>\n",
              "      <th>5</th>\n",
              "      <td>Более 6 лет</td>\n",
              "      <td>166256.0</td>\n",
              "      <td>Все вакансии</td>\n",
              "    </tr>\n",
              "    <tr>\n",
              "      <th>6</th>\n",
              "      <td>Нет опыта</td>\n",
              "      <td>40472.0</td>\n",
              "      <td>Все вакансии</td>\n",
              "    </tr>\n",
              "  </tbody>\n",
              "</table>\n",
              "</div>"
            ],
            "text/plain": [
              "          Опыт работы  Заработная плата             Тип вакансии\n",
              "0           Нет опыта           74643.0  Вакансии в Data Science\n",
              "1  От 1 года до 3 лет          139675.0  Вакансии в Data Science\n",
              "2       От 3 до 6 лет          243115.0  Вакансии в Data Science\n",
              "3       От 3 до 6 лет          133211.0             Все вакансии\n",
              "4  От 1 года до 3 лет           76541.0             Все вакансии\n",
              "5         Более 6 лет          166256.0             Все вакансии\n",
              "6           Нет опыта           40472.0             Все вакансии"
            ]
          },
          "execution_count": 83,
          "metadata": {},
          "output_type": "execute_result"
        }
      ],
      "source": [
        "# результат запроса\n",
        "df_7_3 = pd.read_sql_query(query_7_3, connection)\n",
        "df_7_3 "
      ]
    },
    {
      "cell_type": "code",
      "execution_count": 106,
      "id": "4966bada",
      "metadata": {},
      "outputs": [
        {
          "data": {
            "text/html": [
              "<div>\n",
              "<style scoped>\n",
              "    .dataframe tbody tr th:only-of-type {\n",
              "        vertical-align: middle;\n",
              "    }\n",
              "\n",
              "    .dataframe tbody tr th {\n",
              "        vertical-align: top;\n",
              "    }\n",
              "\n",
              "    .dataframe thead th {\n",
              "        text-align: right;\n",
              "    }\n",
              "</style>\n",
              "<table border=\"1\" class=\"dataframe\">\n",
              "  <thead>\n",
              "    <tr style=\"text-align: right;\">\n",
              "      <th>Опыт работы</th>\n",
              "      <th>Нет опыта</th>\n",
              "      <th>От 1 года до 3 лет</th>\n",
              "      <th>От 3 до 6 лет</th>\n",
              "      <th>Более 6 лет</th>\n",
              "    </tr>\n",
              "    <tr>\n",
              "      <th>Тип вакансии</th>\n",
              "      <th></th>\n",
              "      <th></th>\n",
              "      <th></th>\n",
              "      <th></th>\n",
              "    </tr>\n",
              "  </thead>\n",
              "  <tbody>\n",
              "    <tr>\n",
              "      <th>Вакансии в Data Science</th>\n",
              "      <td>74643.0</td>\n",
              "      <td>139675.0</td>\n",
              "      <td>243115.0</td>\n",
              "      <td>NaN</td>\n",
              "    </tr>\n",
              "    <tr>\n",
              "      <th>Все вакансии</th>\n",
              "      <td>40472.0</td>\n",
              "      <td>76541.0</td>\n",
              "      <td>133211.0</td>\n",
              "      <td>166256.0</td>\n",
              "    </tr>\n",
              "  </tbody>\n",
              "</table>\n",
              "</div>"
            ],
            "text/plain": [
              "Опыт работы              Нет опыта  От 1 года до 3 лет  От 3 до 6 лет  \\\n",
              "Тип вакансии                                                            \n",
              "Вакансии в Data Science    74643.0            139675.0       243115.0   \n",
              "Все вакансии               40472.0             76541.0       133211.0   \n",
              "\n",
              "Опыт работы              Более 6 лет  \n",
              "Тип вакансии                          \n",
              "Вакансии в Data Science          NaN  \n",
              "Все вакансии                166256.0  "
            ]
          },
          "execution_count": 106,
          "metadata": {},
          "output_type": "execute_result"
        }
      ],
      "source": [
        "table = df_7_3.pivot(index='Тип вакансии', columns='Опыт работы', values = 'Заработная плата')\n",
        "\n",
        "# перестановка столбцов для графика\n",
        "cols = table.columns.tolist()\n",
        "column_to_move = \"Более 6 лет\"\n",
        "new_position = 4\n",
        "cols.insert(new_position, cols.pop(cols.index(column_to_move)))\n",
        "table = table[cols]\n",
        "table"
      ]
    },
    {
      "cell_type": "code",
      "execution_count": 107,
      "id": "0b02c347",
      "metadata": {},
      "outputs": [
        {
          "data": {
            "application/vnd.plotly.v1+json": {
              "config": {
                "plotlyServerURL": "https://plot.ly"
              },
              "data": [
                {
                  "alignmentgroup": "True",
                  "hovertemplate": "Опыт работы=Нет опыта<br>Тип вакансии=%{x}<br>value=%{y}<extra></extra>",
                  "legendgroup": "Нет опыта",
                  "marker": {
                    "color": "#636efa",
                    "pattern": {
                      "shape": ""
                    }
                  },
                  "name": "Нет опыта",
                  "offsetgroup": "Нет опыта",
                  "orientation": "v",
                  "showlegend": true,
                  "textposition": "auto",
                  "type": "bar",
                  "x": [
                    "Вакансии в Data Science",
                    "Все вакансии"
                  ],
                  "xaxis": "x",
                  "y": [
                    74643,
                    40472
                  ],
                  "yaxis": "y"
                },
                {
                  "alignmentgroup": "True",
                  "hovertemplate": "Опыт работы=От 1 года до 3 лет<br>Тип вакансии=%{x}<br>value=%{y}<extra></extra>",
                  "legendgroup": "От 1 года до 3 лет",
                  "marker": {
                    "color": "#EF553B",
                    "pattern": {
                      "shape": ""
                    }
                  },
                  "name": "От 1 года до 3 лет",
                  "offsetgroup": "От 1 года до 3 лет",
                  "orientation": "v",
                  "showlegend": true,
                  "textposition": "auto",
                  "type": "bar",
                  "x": [
                    "Вакансии в Data Science",
                    "Все вакансии"
                  ],
                  "xaxis": "x",
                  "y": [
                    139675,
                    76541
                  ],
                  "yaxis": "y"
                },
                {
                  "alignmentgroup": "True",
                  "hovertemplate": "Опыт работы=От 3 до 6 лет<br>Тип вакансии=%{x}<br>value=%{y}<extra></extra>",
                  "legendgroup": "От 3 до 6 лет",
                  "marker": {
                    "color": "#00cc96",
                    "pattern": {
                      "shape": ""
                    }
                  },
                  "name": "От 3 до 6 лет",
                  "offsetgroup": "От 3 до 6 лет",
                  "orientation": "v",
                  "showlegend": true,
                  "textposition": "auto",
                  "type": "bar",
                  "x": [
                    "Вакансии в Data Science",
                    "Все вакансии"
                  ],
                  "xaxis": "x",
                  "y": [
                    243115,
                    133211
                  ],
                  "yaxis": "y"
                },
                {
                  "alignmentgroup": "True",
                  "hovertemplate": "Опыт работы=Более 6 лет<br>Тип вакансии=%{x}<br>value=%{y}<extra></extra>",
                  "legendgroup": "Более 6 лет",
                  "marker": {
                    "color": "#ab63fa",
                    "pattern": {
                      "shape": ""
                    }
                  },
                  "name": "Более 6 лет",
                  "offsetgroup": "Более 6 лет",
                  "orientation": "v",
                  "showlegend": true,
                  "textposition": "auto",
                  "type": "bar",
                  "x": [
                    "Вакансии в Data Science",
                    "Все вакансии"
                  ],
                  "xaxis": "x",
                  "y": [
                    null,
                    166256
                  ],
                  "yaxis": "y"
                }
              ],
              "layout": {
                "barmode": "group",
                "legend": {
                  "title": {
                    "text": "Опыт работы"
                  },
                  "tracegroupgap": 0
                },
                "template": {
                  "data": {
                    "bar": [
                      {
                        "error_x": {
                          "color": "#2a3f5f"
                        },
                        "error_y": {
                          "color": "#2a3f5f"
                        },
                        "marker": {
                          "line": {
                            "color": "#E5ECF6",
                            "width": 0.5
                          },
                          "pattern": {
                            "fillmode": "overlay",
                            "size": 10,
                            "solidity": 0.2
                          }
                        },
                        "type": "bar"
                      }
                    ],
                    "barpolar": [
                      {
                        "marker": {
                          "line": {
                            "color": "#E5ECF6",
                            "width": 0.5
                          },
                          "pattern": {
                            "fillmode": "overlay",
                            "size": 10,
                            "solidity": 0.2
                          }
                        },
                        "type": "barpolar"
                      }
                    ],
                    "carpet": [
                      {
                        "aaxis": {
                          "endlinecolor": "#2a3f5f",
                          "gridcolor": "white",
                          "linecolor": "white",
                          "minorgridcolor": "white",
                          "startlinecolor": "#2a3f5f"
                        },
                        "baxis": {
                          "endlinecolor": "#2a3f5f",
                          "gridcolor": "white",
                          "linecolor": "white",
                          "minorgridcolor": "white",
                          "startlinecolor": "#2a3f5f"
                        },
                        "type": "carpet"
                      }
                    ],
                    "choropleth": [
                      {
                        "colorbar": {
                          "outlinewidth": 0,
                          "ticks": ""
                        },
                        "type": "choropleth"
                      }
                    ],
                    "contour": [
                      {
                        "colorbar": {
                          "outlinewidth": 0,
                          "ticks": ""
                        },
                        "colorscale": [
                          [
                            0,
                            "#0d0887"
                          ],
                          [
                            0.1111111111111111,
                            "#46039f"
                          ],
                          [
                            0.2222222222222222,
                            "#7201a8"
                          ],
                          [
                            0.3333333333333333,
                            "#9c179e"
                          ],
                          [
                            0.4444444444444444,
                            "#bd3786"
                          ],
                          [
                            0.5555555555555556,
                            "#d8576b"
                          ],
                          [
                            0.6666666666666666,
                            "#ed7953"
                          ],
                          [
                            0.7777777777777778,
                            "#fb9f3a"
                          ],
                          [
                            0.8888888888888888,
                            "#fdca26"
                          ],
                          [
                            1,
                            "#f0f921"
                          ]
                        ],
                        "type": "contour"
                      }
                    ],
                    "contourcarpet": [
                      {
                        "colorbar": {
                          "outlinewidth": 0,
                          "ticks": ""
                        },
                        "type": "contourcarpet"
                      }
                    ],
                    "heatmap": [
                      {
                        "colorbar": {
                          "outlinewidth": 0,
                          "ticks": ""
                        },
                        "colorscale": [
                          [
                            0,
                            "#0d0887"
                          ],
                          [
                            0.1111111111111111,
                            "#46039f"
                          ],
                          [
                            0.2222222222222222,
                            "#7201a8"
                          ],
                          [
                            0.3333333333333333,
                            "#9c179e"
                          ],
                          [
                            0.4444444444444444,
                            "#bd3786"
                          ],
                          [
                            0.5555555555555556,
                            "#d8576b"
                          ],
                          [
                            0.6666666666666666,
                            "#ed7953"
                          ],
                          [
                            0.7777777777777778,
                            "#fb9f3a"
                          ],
                          [
                            0.8888888888888888,
                            "#fdca26"
                          ],
                          [
                            1,
                            "#f0f921"
                          ]
                        ],
                        "type": "heatmap"
                      }
                    ],
                    "heatmapgl": [
                      {
                        "colorbar": {
                          "outlinewidth": 0,
                          "ticks": ""
                        },
                        "colorscale": [
                          [
                            0,
                            "#0d0887"
                          ],
                          [
                            0.1111111111111111,
                            "#46039f"
                          ],
                          [
                            0.2222222222222222,
                            "#7201a8"
                          ],
                          [
                            0.3333333333333333,
                            "#9c179e"
                          ],
                          [
                            0.4444444444444444,
                            "#bd3786"
                          ],
                          [
                            0.5555555555555556,
                            "#d8576b"
                          ],
                          [
                            0.6666666666666666,
                            "#ed7953"
                          ],
                          [
                            0.7777777777777778,
                            "#fb9f3a"
                          ],
                          [
                            0.8888888888888888,
                            "#fdca26"
                          ],
                          [
                            1,
                            "#f0f921"
                          ]
                        ],
                        "type": "heatmapgl"
                      }
                    ],
                    "histogram": [
                      {
                        "marker": {
                          "pattern": {
                            "fillmode": "overlay",
                            "size": 10,
                            "solidity": 0.2
                          }
                        },
                        "type": "histogram"
                      }
                    ],
                    "histogram2d": [
                      {
                        "colorbar": {
                          "outlinewidth": 0,
                          "ticks": ""
                        },
                        "colorscale": [
                          [
                            0,
                            "#0d0887"
                          ],
                          [
                            0.1111111111111111,
                            "#46039f"
                          ],
                          [
                            0.2222222222222222,
                            "#7201a8"
                          ],
                          [
                            0.3333333333333333,
                            "#9c179e"
                          ],
                          [
                            0.4444444444444444,
                            "#bd3786"
                          ],
                          [
                            0.5555555555555556,
                            "#d8576b"
                          ],
                          [
                            0.6666666666666666,
                            "#ed7953"
                          ],
                          [
                            0.7777777777777778,
                            "#fb9f3a"
                          ],
                          [
                            0.8888888888888888,
                            "#fdca26"
                          ],
                          [
                            1,
                            "#f0f921"
                          ]
                        ],
                        "type": "histogram2d"
                      }
                    ],
                    "histogram2dcontour": [
                      {
                        "colorbar": {
                          "outlinewidth": 0,
                          "ticks": ""
                        },
                        "colorscale": [
                          [
                            0,
                            "#0d0887"
                          ],
                          [
                            0.1111111111111111,
                            "#46039f"
                          ],
                          [
                            0.2222222222222222,
                            "#7201a8"
                          ],
                          [
                            0.3333333333333333,
                            "#9c179e"
                          ],
                          [
                            0.4444444444444444,
                            "#bd3786"
                          ],
                          [
                            0.5555555555555556,
                            "#d8576b"
                          ],
                          [
                            0.6666666666666666,
                            "#ed7953"
                          ],
                          [
                            0.7777777777777778,
                            "#fb9f3a"
                          ],
                          [
                            0.8888888888888888,
                            "#fdca26"
                          ],
                          [
                            1,
                            "#f0f921"
                          ]
                        ],
                        "type": "histogram2dcontour"
                      }
                    ],
                    "mesh3d": [
                      {
                        "colorbar": {
                          "outlinewidth": 0,
                          "ticks": ""
                        },
                        "type": "mesh3d"
                      }
                    ],
                    "parcoords": [
                      {
                        "line": {
                          "colorbar": {
                            "outlinewidth": 0,
                            "ticks": ""
                          }
                        },
                        "type": "parcoords"
                      }
                    ],
                    "pie": [
                      {
                        "automargin": true,
                        "type": "pie"
                      }
                    ],
                    "scatter": [
                      {
                        "fillpattern": {
                          "fillmode": "overlay",
                          "size": 10,
                          "solidity": 0.2
                        },
                        "type": "scatter"
                      }
                    ],
                    "scatter3d": [
                      {
                        "line": {
                          "colorbar": {
                            "outlinewidth": 0,
                            "ticks": ""
                          }
                        },
                        "marker": {
                          "colorbar": {
                            "outlinewidth": 0,
                            "ticks": ""
                          }
                        },
                        "type": "scatter3d"
                      }
                    ],
                    "scattercarpet": [
                      {
                        "marker": {
                          "colorbar": {
                            "outlinewidth": 0,
                            "ticks": ""
                          }
                        },
                        "type": "scattercarpet"
                      }
                    ],
                    "scattergeo": [
                      {
                        "marker": {
                          "colorbar": {
                            "outlinewidth": 0,
                            "ticks": ""
                          }
                        },
                        "type": "scattergeo"
                      }
                    ],
                    "scattergl": [
                      {
                        "marker": {
                          "colorbar": {
                            "outlinewidth": 0,
                            "ticks": ""
                          }
                        },
                        "type": "scattergl"
                      }
                    ],
                    "scattermapbox": [
                      {
                        "marker": {
                          "colorbar": {
                            "outlinewidth": 0,
                            "ticks": ""
                          }
                        },
                        "type": "scattermapbox"
                      }
                    ],
                    "scatterpolar": [
                      {
                        "marker": {
                          "colorbar": {
                            "outlinewidth": 0,
                            "ticks": ""
                          }
                        },
                        "type": "scatterpolar"
                      }
                    ],
                    "scatterpolargl": [
                      {
                        "marker": {
                          "colorbar": {
                            "outlinewidth": 0,
                            "ticks": ""
                          }
                        },
                        "type": "scatterpolargl"
                      }
                    ],
                    "scatterternary": [
                      {
                        "marker": {
                          "colorbar": {
                            "outlinewidth": 0,
                            "ticks": ""
                          }
                        },
                        "type": "scatterternary"
                      }
                    ],
                    "surface": [
                      {
                        "colorbar": {
                          "outlinewidth": 0,
                          "ticks": ""
                        },
                        "colorscale": [
                          [
                            0,
                            "#0d0887"
                          ],
                          [
                            0.1111111111111111,
                            "#46039f"
                          ],
                          [
                            0.2222222222222222,
                            "#7201a8"
                          ],
                          [
                            0.3333333333333333,
                            "#9c179e"
                          ],
                          [
                            0.4444444444444444,
                            "#bd3786"
                          ],
                          [
                            0.5555555555555556,
                            "#d8576b"
                          ],
                          [
                            0.6666666666666666,
                            "#ed7953"
                          ],
                          [
                            0.7777777777777778,
                            "#fb9f3a"
                          ],
                          [
                            0.8888888888888888,
                            "#fdca26"
                          ],
                          [
                            1,
                            "#f0f921"
                          ]
                        ],
                        "type": "surface"
                      }
                    ],
                    "table": [
                      {
                        "cells": {
                          "fill": {
                            "color": "#EBF0F8"
                          },
                          "line": {
                            "color": "white"
                          }
                        },
                        "header": {
                          "fill": {
                            "color": "#C8D4E3"
                          },
                          "line": {
                            "color": "white"
                          }
                        },
                        "type": "table"
                      }
                    ]
                  },
                  "layout": {
                    "annotationdefaults": {
                      "arrowcolor": "#2a3f5f",
                      "arrowhead": 0,
                      "arrowwidth": 1
                    },
                    "autotypenumbers": "strict",
                    "coloraxis": {
                      "colorbar": {
                        "outlinewidth": 0,
                        "ticks": ""
                      }
                    },
                    "colorscale": {
                      "diverging": [
                        [
                          0,
                          "#8e0152"
                        ],
                        [
                          0.1,
                          "#c51b7d"
                        ],
                        [
                          0.2,
                          "#de77ae"
                        ],
                        [
                          0.3,
                          "#f1b6da"
                        ],
                        [
                          0.4,
                          "#fde0ef"
                        ],
                        [
                          0.5,
                          "#f7f7f7"
                        ],
                        [
                          0.6,
                          "#e6f5d0"
                        ],
                        [
                          0.7,
                          "#b8e186"
                        ],
                        [
                          0.8,
                          "#7fbc41"
                        ],
                        [
                          0.9,
                          "#4d9221"
                        ],
                        [
                          1,
                          "#276419"
                        ]
                      ],
                      "sequential": [
                        [
                          0,
                          "#0d0887"
                        ],
                        [
                          0.1111111111111111,
                          "#46039f"
                        ],
                        [
                          0.2222222222222222,
                          "#7201a8"
                        ],
                        [
                          0.3333333333333333,
                          "#9c179e"
                        ],
                        [
                          0.4444444444444444,
                          "#bd3786"
                        ],
                        [
                          0.5555555555555556,
                          "#d8576b"
                        ],
                        [
                          0.6666666666666666,
                          "#ed7953"
                        ],
                        [
                          0.7777777777777778,
                          "#fb9f3a"
                        ],
                        [
                          0.8888888888888888,
                          "#fdca26"
                        ],
                        [
                          1,
                          "#f0f921"
                        ]
                      ],
                      "sequentialminus": [
                        [
                          0,
                          "#0d0887"
                        ],
                        [
                          0.1111111111111111,
                          "#46039f"
                        ],
                        [
                          0.2222222222222222,
                          "#7201a8"
                        ],
                        [
                          0.3333333333333333,
                          "#9c179e"
                        ],
                        [
                          0.4444444444444444,
                          "#bd3786"
                        ],
                        [
                          0.5555555555555556,
                          "#d8576b"
                        ],
                        [
                          0.6666666666666666,
                          "#ed7953"
                        ],
                        [
                          0.7777777777777778,
                          "#fb9f3a"
                        ],
                        [
                          0.8888888888888888,
                          "#fdca26"
                        ],
                        [
                          1,
                          "#f0f921"
                        ]
                      ]
                    },
                    "colorway": [
                      "#636efa",
                      "#EF553B",
                      "#00cc96",
                      "#ab63fa",
                      "#FFA15A",
                      "#19d3f3",
                      "#FF6692",
                      "#B6E880",
                      "#FF97FF",
                      "#FECB52"
                    ],
                    "font": {
                      "color": "#2a3f5f"
                    },
                    "geo": {
                      "bgcolor": "white",
                      "lakecolor": "white",
                      "landcolor": "#E5ECF6",
                      "showlakes": true,
                      "showland": true,
                      "subunitcolor": "white"
                    },
                    "hoverlabel": {
                      "align": "left"
                    },
                    "hovermode": "closest",
                    "mapbox": {
                      "style": "light"
                    },
                    "paper_bgcolor": "white",
                    "plot_bgcolor": "#E5ECF6",
                    "polar": {
                      "angularaxis": {
                        "gridcolor": "white",
                        "linecolor": "white",
                        "ticks": ""
                      },
                      "bgcolor": "#E5ECF6",
                      "radialaxis": {
                        "gridcolor": "white",
                        "linecolor": "white",
                        "ticks": ""
                      }
                    },
                    "scene": {
                      "xaxis": {
                        "backgroundcolor": "#E5ECF6",
                        "gridcolor": "white",
                        "gridwidth": 2,
                        "linecolor": "white",
                        "showbackground": true,
                        "ticks": "",
                        "zerolinecolor": "white"
                      },
                      "yaxis": {
                        "backgroundcolor": "#E5ECF6",
                        "gridcolor": "white",
                        "gridwidth": 2,
                        "linecolor": "white",
                        "showbackground": true,
                        "ticks": "",
                        "zerolinecolor": "white"
                      },
                      "zaxis": {
                        "backgroundcolor": "#E5ECF6",
                        "gridcolor": "white",
                        "gridwidth": 2,
                        "linecolor": "white",
                        "showbackground": true,
                        "ticks": "",
                        "zerolinecolor": "white"
                      }
                    },
                    "shapedefaults": {
                      "line": {
                        "color": "#2a3f5f"
                      }
                    },
                    "ternary": {
                      "aaxis": {
                        "gridcolor": "white",
                        "linecolor": "white",
                        "ticks": ""
                      },
                      "baxis": {
                        "gridcolor": "white",
                        "linecolor": "white",
                        "ticks": ""
                      },
                      "bgcolor": "#E5ECF6",
                      "caxis": {
                        "gridcolor": "white",
                        "linecolor": "white",
                        "ticks": ""
                      }
                    },
                    "title": {
                      "x": 0.05
                    },
                    "xaxis": {
                      "automargin": true,
                      "gridcolor": "white",
                      "linecolor": "white",
                      "ticks": "",
                      "title": {
                        "standoff": 15
                      },
                      "zerolinecolor": "white",
                      "zerolinewidth": 2
                    },
                    "yaxis": {
                      "automargin": true,
                      "gridcolor": "white",
                      "linecolor": "white",
                      "ticks": "",
                      "title": {
                        "standoff": 15
                      },
                      "zerolinecolor": "white",
                      "zerolinewidth": 2
                    }
                  }
                },
                "title": {
                  "text": "Сравнение средних зарплат в Data Science со средними зарплатами в целом по рынку труда"
                },
                "xaxis": {
                  "anchor": "y",
                  "domain": [
                    0,
                    1
                  ],
                  "title": {
                    "text": "Тип вакансии"
                  }
                },
                "yaxis": {
                  "anchor": "x",
                  "domain": [
                    0,
                    1
                  ],
                  "title": {
                    "text": "value"
                  }
                }
              }
            }
          },
          "metadata": {},
          "output_type": "display_data"
        }
      ],
      "source": [
        "fig_7_3 = px.bar(table,\n",
        "            color = \"Опыт работы\",\n",
        "            barmode = 'group',\n",
        "            title = 'Сравнение средних зарплат в Data Science со средними зарплатами в целом по рынку труда')\n",
        "fig_7_3.show()\n",
        "#fig_6.write_html(\"Diagrams/fig_6_Salary_MoveTrip.html\")\n"
      ]
    },
    {
      "cell_type": "markdown",
      "id": "82380383",
      "metadata": {},
      "source": [
        "### Выводы по дополнительному исследованию данных\n",
        "\n",
        "Судя по количеству вакансий, в тех же отраслях, где сосредоточено наибольшее число вакансий в целом по рынку, также существует и потребность в специалистах по Data Science. В первую очередь это разработка программного обеспечения, системная интеграция, интернет-компании, банки и мобильная связь. Интересно, что такие высокотехнологичные отрасли как медицина, машиностроение, научные исследования, нефте-газовая промышленность не попали в ТОП-10 для DS-специалистов.\n",
        "\n",
        "При сравнении средних заработных плат для DS-специалистов с данными по рынку труда в целом видно, что зарплаты DS-специалистов в среднем в 2 раза выше зарплат по рынку, причём в каждой из категорий опыта работы(кроме стажа более 6 лет - такое требование не предъявляется к DS-специалистам в базе hh.ru)"
      ]
    }
  ],
  "metadata": {
    "colab": {
      "collapsed_sections": [
        "8d62a9f3-f64e-4fe7-bdac-c4dffa16155e"
      ],
      "provenance": []
    },
    "kernelspec": {
      "display_name": "Python 3 (ipykernel)",
      "language": "python",
      "name": "python3"
    },
    "language_info": {
      "codemirror_mode": {
        "name": "ipython",
        "version": 3
      },
      "file_extension": ".py",
      "mimetype": "text/x-python",
      "name": "python",
      "nbconvert_exporter": "python",
      "pygments_lexer": "ipython3",
      "version": "3.9.10"
    }
  },
  "nbformat": 4,
  "nbformat_minor": 5
}
